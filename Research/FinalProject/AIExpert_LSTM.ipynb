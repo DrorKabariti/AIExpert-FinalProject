{
  "nbformat": 4,
  "nbformat_minor": 0,
  "metadata": {
    "colab": {
      "provenance": [],
      "collapsed_sections": [
        "bDsk6VWSx7_M",
        "h8em1MlgyIRS",
        "zqvTJZSCyOu-"
      ],
      "gpuType": "T4",
      "toc_visible": true
    },
    "kernelspec": {
      "name": "python3",
      "display_name": "Python 3"
    },
    "language_info": {
      "name": "python"
    },
    "accelerator": "GPU"
  },
  "cells": [
    {
      "cell_type": "markdown",
      "source": [
        "# טעינת ספריות"
      ],
      "metadata": {
        "id": "bDsk6VWSx7_M"
      }
    },
    {
      "cell_type": "code",
      "execution_count": 35,
      "metadata": {
        "id": "c_yUp_VpxwM9"
      },
      "outputs": [],
      "source": [
        "import pandas as pd\n",
        "import numpy as np\n",
        "import plotly.express as px\n",
        "import plotly.graph_objects as go\n",
        "from sklearn.preprocessing import MinMaxScaler\n",
        "from sklearn.metrics import mean_absolute_error, mean_squared_error, r2_score\n",
        "from datetime import datetime, timedelta\n",
        "import tensorflow as tf\n",
        "from tensorflow.keras.models import Sequential\n",
        "from tensorflow.keras.callbacks import EarlyStopping, ReduceLROnPlateau\n",
        "from tensorflow.keras import Input\n",
        "from tensorflow.keras.layers import LSTM, Dropout, Dense, Bidirectional, BatchNormalization\n",
        "from tensorflow.keras.models import load_model\n"
      ]
    },
    {
      "cell_type": "markdown",
      "source": [
        "# טעינת הנתונים"
      ],
      "metadata": {
        "id": "h8em1MlgyIRS"
      }
    },
    {
      "cell_type": "code",
      "source": [
        "cc_df = pd.read_csv(\"CC_2020-2025_New.csv\")\n",
        "holidays_df = pd.read_csv(\"Holidays_New.csv\")"
      ],
      "metadata": {
        "id": "SftrnnIzyKGO"
      },
      "execution_count": 36,
      "outputs": []
    },
    {
      "cell_type": "markdown",
      "source": [
        "# תהליך EDA"
      ],
      "metadata": {
        "id": "zqvTJZSCyOu-"
      }
    },
    {
      "cell_type": "code",
      "source": [
        "print(\"🔹 מידע כללי:\")\n",
        "print(cc_df.info())\n",
        "print(\"\\n🔹 תיאור סטטיסטי:\")\n",
        "print(cc_df.describe())\n",
        "print(\"\\n🔹 ערכים חסרים:\")\n",
        "print(cc_df.isna().sum())"
      ],
      "metadata": {
        "colab": {
          "base_uri": "https://localhost:8080/"
        },
        "id": "AJ_N--P7yTCH",
        "outputId": "5bdeb89c-7cea-4271-e72c-e0e7e15ef898"
      },
      "execution_count": 37,
      "outputs": [
        {
          "output_type": "stream",
          "name": "stdout",
          "text": [
            "🔹 מידע כללי:\n",
            "<class 'pandas.core.frame.DataFrame'>\n",
            "RangeIndex: 34088 entries, 0 to 34087\n",
            "Data columns (total 12 columns):\n",
            " #   Column                Non-Null Count  Dtype \n",
            "---  ------                --------------  ----- \n",
            " 0   QueueStartDate        34088 non-null  object\n",
            " 1   QueueStartDateNumber  34088 non-null  int64 \n",
            " 2   QueueStartDateName    34088 non-null  object\n",
            " 3   HourInterval          34088 non-null  object\n",
            " 4   HalfHourInterval      34088 non-null  object\n",
            " 5   TotalCallsOffered     34088 non-null  int64 \n",
            " 6   TotalCallsAnswered    34088 non-null  int64 \n",
            " 7   TotalCallsAbandoned   34088 non-null  int64 \n",
            " 8   TotalCB               34088 non-null  int64 \n",
            " 9   TotalTransfered       34088 non-null  int64 \n",
            " 10  TotalWaitDuration     34088 non-null  int64 \n",
            " 11  TotalAgents           34088 non-null  int64 \n",
            "dtypes: int64(8), object(4)\n",
            "memory usage: 3.1+ MB\n",
            "None\n",
            "\n",
            "🔹 תיאור סטטיסטי:\n",
            "       QueueStartDateNumber  TotalCallsOffered  TotalCallsAnswered  \\\n",
            "count          34088.000000       34088.000000        34088.000000   \n",
            "mean               3.258067         426.620952          266.687163   \n",
            "std                1.598184         299.337418          185.780813   \n",
            "min                1.000000           1.000000            0.000000   \n",
            "25%                2.000000         170.000000           91.000000   \n",
            "50%                3.000000         443.000000          271.000000   \n",
            "75%                5.000000         633.000000          421.000000   \n",
            "max                7.000000        1684.000000         1055.000000   \n",
            "\n",
            "       TotalCallsAbandoned       TotalCB  TotalTransfered  TotalWaitDuration  \\\n",
            "count         34088.000000  34088.000000     34088.000000       3.408800e+04   \n",
            "mean             99.659763     58.562632         1.557381       1.178755e+05   \n",
            "std             110.393983     79.768919        13.185140       1.166038e+05   \n",
            "min               0.000000      0.000000         0.000000      -1.121057e+06   \n",
            "25%              22.000000      0.000000         0.000000       2.154275e+04   \n",
            "50%              72.000000     30.000000         0.000000       9.342950e+04   \n",
            "75%             132.000000     88.000000         0.000000       1.663000e+05   \n",
            "max             908.000000    706.000000       416.000000       8.941350e+05   \n",
            "\n",
            "        TotalAgents  \n",
            "count  34088.000000  \n",
            "mean      48.600945  \n",
            "std       31.794718  \n",
            "min        0.000000  \n",
            "25%       20.000000  \n",
            "50%       53.000000  \n",
            "75%       73.000000  \n",
            "max      124.000000  \n",
            "\n",
            "🔹 ערכים חסרים:\n",
            "QueueStartDate          0\n",
            "QueueStartDateNumber    0\n",
            "QueueStartDateName      0\n",
            "HourInterval            0\n",
            "HalfHourInterval        0\n",
            "TotalCallsOffered       0\n",
            "TotalCallsAnswered      0\n",
            "TotalCallsAbandoned     0\n",
            "TotalCB                 0\n",
            "TotalTransfered         0\n",
            "TotalWaitDuration       0\n",
            "TotalAgents             0\n",
            "dtype: int64\n"
          ]
        }
      ]
    },
    {
      "cell_type": "code",
      "source": [
        "# דוגמה לגרף לפי ממוצע נציגים פר שעה\n",
        "fig = px.line(cc_df.groupby('HourInterval')['TotalAgents'].mean().reset_index(),\n",
        "              x='HourInterval', y='TotalAgents',\n",
        "              title=\"ממוצע נציגים פר שעה\")\n",
        "fig.show()"
      ],
      "metadata": {
        "colab": {
          "base_uri": "https://localhost:8080/",
          "height": 0
        },
        "id": "FwWpME_Zy7y9",
        "outputId": "717a23d6-085b-4db2-a8da-ab99ba6ad59e"
      },
      "execution_count": 38,
      "outputs": [
        {
          "output_type": "display_data",
          "data": {
            "text/html": [
              "<html>\n",
              "<head><meta charset=\"utf-8\" /></head>\n",
              "<body>\n",
              "    <div>            <script src=\"https://cdnjs.cloudflare.com/ajax/libs/mathjax/2.7.5/MathJax.js?config=TeX-AMS-MML_SVG\"></script><script type=\"text/javascript\">if (window.MathJax && window.MathJax.Hub && window.MathJax.Hub.Config) {window.MathJax.Hub.Config({SVG: {font: \"STIX-Web\"}});}</script>                <script type=\"text/javascript\">window.PlotlyConfig = {MathJaxConfig: 'local'};</script>\n",
              "        <script charset=\"utf-8\" src=\"https://cdn.plot.ly/plotly-2.35.2.min.js\"></script>                <div id=\"eea22e09-f9bf-43ed-9685-1e7802b6371e\" class=\"plotly-graph-div\" style=\"height:525px; width:100%;\"></div>            <script type=\"text/javascript\">                                    window.PLOTLYENV=window.PLOTLYENV || {};                                    if (document.getElementById(\"eea22e09-f9bf-43ed-9685-1e7802b6371e\")) {                    Plotly.newPlot(                        \"eea22e09-f9bf-43ed-9685-1e7802b6371e\",                        [{\"hovertemplate\":\"HourInterval=%{x}\\u003cbr\\u003eTotalAgents=%{y}\\u003cextra\\u003e\\u003c\\u002fextra\\u003e\",\"legendgroup\":\"\",\"line\":{\"color\":\"#636efa\",\"dash\":\"solid\"},\"marker\":{\"symbol\":\"circle\"},\"mode\":\"lines\",\"name\":\"\",\"orientation\":\"v\",\"showlegend\":false,\"x\":[\"00:00 - 01:00\",\"01:00 - 02:00\",\"04:00 - 05:00\",\"05:00 - 06:00\",\"06:00 - 07:00\",\"07:00 - 08:00\",\"08:00 - 09:00\",\"09:00 - 10:00\",\"10:00 - 11:00\",\"11:00 - 12:00\",\"12:00 - 13:00\",\"13:00 - 14:00\",\"14:00 - 15:00\",\"15:00 - 16:00\",\"16:00 - 17:00\",\"17:00 - 18:00\",\"18:00 - 19:00\",\"19:00 - 20:00\",\"20:00 - 21:00\",\"21:00 - 22:00\",\"22:00 - 23:00\",\"23:00 - 00:00\"],\"xaxis\":\"x\",\"y\":[1.0,1.0,1.0,6.75,1.2727272727272727,5.354010695187166,60.75482912332838,67.54458693707127,67.01524208009563,65.50492978786973,63.39022082018928,67.72335025380711,61.600218658892125,46.494663231505335,26.921962095875138,4.516435643564356,2.5347222222222223,1.3043478260869565,1.0,1.6,1.3333333333333333,1.0],\"yaxis\":\"y\",\"type\":\"scatter\"}],                        {\"template\":{\"data\":{\"histogram2dcontour\":[{\"type\":\"histogram2dcontour\",\"colorbar\":{\"outlinewidth\":0,\"ticks\":\"\"},\"colorscale\":[[0.0,\"#0d0887\"],[0.1111111111111111,\"#46039f\"],[0.2222222222222222,\"#7201a8\"],[0.3333333333333333,\"#9c179e\"],[0.4444444444444444,\"#bd3786\"],[0.5555555555555556,\"#d8576b\"],[0.6666666666666666,\"#ed7953\"],[0.7777777777777778,\"#fb9f3a\"],[0.8888888888888888,\"#fdca26\"],[1.0,\"#f0f921\"]]}],\"choropleth\":[{\"type\":\"choropleth\",\"colorbar\":{\"outlinewidth\":0,\"ticks\":\"\"}}],\"histogram2d\":[{\"type\":\"histogram2d\",\"colorbar\":{\"outlinewidth\":0,\"ticks\":\"\"},\"colorscale\":[[0.0,\"#0d0887\"],[0.1111111111111111,\"#46039f\"],[0.2222222222222222,\"#7201a8\"],[0.3333333333333333,\"#9c179e\"],[0.4444444444444444,\"#bd3786\"],[0.5555555555555556,\"#d8576b\"],[0.6666666666666666,\"#ed7953\"],[0.7777777777777778,\"#fb9f3a\"],[0.8888888888888888,\"#fdca26\"],[1.0,\"#f0f921\"]]}],\"heatmap\":[{\"type\":\"heatmap\",\"colorbar\":{\"outlinewidth\":0,\"ticks\":\"\"},\"colorscale\":[[0.0,\"#0d0887\"],[0.1111111111111111,\"#46039f\"],[0.2222222222222222,\"#7201a8\"],[0.3333333333333333,\"#9c179e\"],[0.4444444444444444,\"#bd3786\"],[0.5555555555555556,\"#d8576b\"],[0.6666666666666666,\"#ed7953\"],[0.7777777777777778,\"#fb9f3a\"],[0.8888888888888888,\"#fdca26\"],[1.0,\"#f0f921\"]]}],\"heatmapgl\":[{\"type\":\"heatmapgl\",\"colorbar\":{\"outlinewidth\":0,\"ticks\":\"\"},\"colorscale\":[[0.0,\"#0d0887\"],[0.1111111111111111,\"#46039f\"],[0.2222222222222222,\"#7201a8\"],[0.3333333333333333,\"#9c179e\"],[0.4444444444444444,\"#bd3786\"],[0.5555555555555556,\"#d8576b\"],[0.6666666666666666,\"#ed7953\"],[0.7777777777777778,\"#fb9f3a\"],[0.8888888888888888,\"#fdca26\"],[1.0,\"#f0f921\"]]}],\"contourcarpet\":[{\"type\":\"contourcarpet\",\"colorbar\":{\"outlinewidth\":0,\"ticks\":\"\"}}],\"contour\":[{\"type\":\"contour\",\"colorbar\":{\"outlinewidth\":0,\"ticks\":\"\"},\"colorscale\":[[0.0,\"#0d0887\"],[0.1111111111111111,\"#46039f\"],[0.2222222222222222,\"#7201a8\"],[0.3333333333333333,\"#9c179e\"],[0.4444444444444444,\"#bd3786\"],[0.5555555555555556,\"#d8576b\"],[0.6666666666666666,\"#ed7953\"],[0.7777777777777778,\"#fb9f3a\"],[0.8888888888888888,\"#fdca26\"],[1.0,\"#f0f921\"]]}],\"surface\":[{\"type\":\"surface\",\"colorbar\":{\"outlinewidth\":0,\"ticks\":\"\"},\"colorscale\":[[0.0,\"#0d0887\"],[0.1111111111111111,\"#46039f\"],[0.2222222222222222,\"#7201a8\"],[0.3333333333333333,\"#9c179e\"],[0.4444444444444444,\"#bd3786\"],[0.5555555555555556,\"#d8576b\"],[0.6666666666666666,\"#ed7953\"],[0.7777777777777778,\"#fb9f3a\"],[0.8888888888888888,\"#fdca26\"],[1.0,\"#f0f921\"]]}],\"mesh3d\":[{\"type\":\"mesh3d\",\"colorbar\":{\"outlinewidth\":0,\"ticks\":\"\"}}],\"scatter\":[{\"fillpattern\":{\"fillmode\":\"overlay\",\"size\":10,\"solidity\":0.2},\"type\":\"scatter\"}],\"parcoords\":[{\"type\":\"parcoords\",\"line\":{\"colorbar\":{\"outlinewidth\":0,\"ticks\":\"\"}}}],\"scatterpolargl\":[{\"type\":\"scatterpolargl\",\"marker\":{\"colorbar\":{\"outlinewidth\":0,\"ticks\":\"\"}}}],\"bar\":[{\"error_x\":{\"color\":\"#2a3f5f\"},\"error_y\":{\"color\":\"#2a3f5f\"},\"marker\":{\"line\":{\"color\":\"#E5ECF6\",\"width\":0.5},\"pattern\":{\"fillmode\":\"overlay\",\"size\":10,\"solidity\":0.2}},\"type\":\"bar\"}],\"scattergeo\":[{\"type\":\"scattergeo\",\"marker\":{\"colorbar\":{\"outlinewidth\":0,\"ticks\":\"\"}}}],\"scatterpolar\":[{\"type\":\"scatterpolar\",\"marker\":{\"colorbar\":{\"outlinewidth\":0,\"ticks\":\"\"}}}],\"histogram\":[{\"marker\":{\"pattern\":{\"fillmode\":\"overlay\",\"size\":10,\"solidity\":0.2}},\"type\":\"histogram\"}],\"scattergl\":[{\"type\":\"scattergl\",\"marker\":{\"colorbar\":{\"outlinewidth\":0,\"ticks\":\"\"}}}],\"scatter3d\":[{\"type\":\"scatter3d\",\"line\":{\"colorbar\":{\"outlinewidth\":0,\"ticks\":\"\"}},\"marker\":{\"colorbar\":{\"outlinewidth\":0,\"ticks\":\"\"}}}],\"scattermapbox\":[{\"type\":\"scattermapbox\",\"marker\":{\"colorbar\":{\"outlinewidth\":0,\"ticks\":\"\"}}}],\"scatterternary\":[{\"type\":\"scatterternary\",\"marker\":{\"colorbar\":{\"outlinewidth\":0,\"ticks\":\"\"}}}],\"scattercarpet\":[{\"type\":\"scattercarpet\",\"marker\":{\"colorbar\":{\"outlinewidth\":0,\"ticks\":\"\"}}}],\"carpet\":[{\"aaxis\":{\"endlinecolor\":\"#2a3f5f\",\"gridcolor\":\"white\",\"linecolor\":\"white\",\"minorgridcolor\":\"white\",\"startlinecolor\":\"#2a3f5f\"},\"baxis\":{\"endlinecolor\":\"#2a3f5f\",\"gridcolor\":\"white\",\"linecolor\":\"white\",\"minorgridcolor\":\"white\",\"startlinecolor\":\"#2a3f5f\"},\"type\":\"carpet\"}],\"table\":[{\"cells\":{\"fill\":{\"color\":\"#EBF0F8\"},\"line\":{\"color\":\"white\"}},\"header\":{\"fill\":{\"color\":\"#C8D4E3\"},\"line\":{\"color\":\"white\"}},\"type\":\"table\"}],\"barpolar\":[{\"marker\":{\"line\":{\"color\":\"#E5ECF6\",\"width\":0.5},\"pattern\":{\"fillmode\":\"overlay\",\"size\":10,\"solidity\":0.2}},\"type\":\"barpolar\"}],\"pie\":[{\"automargin\":true,\"type\":\"pie\"}]},\"layout\":{\"autotypenumbers\":\"strict\",\"colorway\":[\"#636efa\",\"#EF553B\",\"#00cc96\",\"#ab63fa\",\"#FFA15A\",\"#19d3f3\",\"#FF6692\",\"#B6E880\",\"#FF97FF\",\"#FECB52\"],\"font\":{\"color\":\"#2a3f5f\"},\"hovermode\":\"closest\",\"hoverlabel\":{\"align\":\"left\"},\"paper_bgcolor\":\"white\",\"plot_bgcolor\":\"#E5ECF6\",\"polar\":{\"bgcolor\":\"#E5ECF6\",\"angularaxis\":{\"gridcolor\":\"white\",\"linecolor\":\"white\",\"ticks\":\"\"},\"radialaxis\":{\"gridcolor\":\"white\",\"linecolor\":\"white\",\"ticks\":\"\"}},\"ternary\":{\"bgcolor\":\"#E5ECF6\",\"aaxis\":{\"gridcolor\":\"white\",\"linecolor\":\"white\",\"ticks\":\"\"},\"baxis\":{\"gridcolor\":\"white\",\"linecolor\":\"white\",\"ticks\":\"\"},\"caxis\":{\"gridcolor\":\"white\",\"linecolor\":\"white\",\"ticks\":\"\"}},\"coloraxis\":{\"colorbar\":{\"outlinewidth\":0,\"ticks\":\"\"}},\"colorscale\":{\"sequential\":[[0.0,\"#0d0887\"],[0.1111111111111111,\"#46039f\"],[0.2222222222222222,\"#7201a8\"],[0.3333333333333333,\"#9c179e\"],[0.4444444444444444,\"#bd3786\"],[0.5555555555555556,\"#d8576b\"],[0.6666666666666666,\"#ed7953\"],[0.7777777777777778,\"#fb9f3a\"],[0.8888888888888888,\"#fdca26\"],[1.0,\"#f0f921\"]],\"sequentialminus\":[[0.0,\"#0d0887\"],[0.1111111111111111,\"#46039f\"],[0.2222222222222222,\"#7201a8\"],[0.3333333333333333,\"#9c179e\"],[0.4444444444444444,\"#bd3786\"],[0.5555555555555556,\"#d8576b\"],[0.6666666666666666,\"#ed7953\"],[0.7777777777777778,\"#fb9f3a\"],[0.8888888888888888,\"#fdca26\"],[1.0,\"#f0f921\"]],\"diverging\":[[0,\"#8e0152\"],[0.1,\"#c51b7d\"],[0.2,\"#de77ae\"],[0.3,\"#f1b6da\"],[0.4,\"#fde0ef\"],[0.5,\"#f7f7f7\"],[0.6,\"#e6f5d0\"],[0.7,\"#b8e186\"],[0.8,\"#7fbc41\"],[0.9,\"#4d9221\"],[1,\"#276419\"]]},\"xaxis\":{\"gridcolor\":\"white\",\"linecolor\":\"white\",\"ticks\":\"\",\"title\":{\"standoff\":15},\"zerolinecolor\":\"white\",\"automargin\":true,\"zerolinewidth\":2},\"yaxis\":{\"gridcolor\":\"white\",\"linecolor\":\"white\",\"ticks\":\"\",\"title\":{\"standoff\":15},\"zerolinecolor\":\"white\",\"automargin\":true,\"zerolinewidth\":2},\"scene\":{\"xaxis\":{\"backgroundcolor\":\"#E5ECF6\",\"gridcolor\":\"white\",\"linecolor\":\"white\",\"showbackground\":true,\"ticks\":\"\",\"zerolinecolor\":\"white\",\"gridwidth\":2},\"yaxis\":{\"backgroundcolor\":\"#E5ECF6\",\"gridcolor\":\"white\",\"linecolor\":\"white\",\"showbackground\":true,\"ticks\":\"\",\"zerolinecolor\":\"white\",\"gridwidth\":2},\"zaxis\":{\"backgroundcolor\":\"#E5ECF6\",\"gridcolor\":\"white\",\"linecolor\":\"white\",\"showbackground\":true,\"ticks\":\"\",\"zerolinecolor\":\"white\",\"gridwidth\":2}},\"shapedefaults\":{\"line\":{\"color\":\"#2a3f5f\"}},\"annotationdefaults\":{\"arrowcolor\":\"#2a3f5f\",\"arrowhead\":0,\"arrowwidth\":1},\"geo\":{\"bgcolor\":\"white\",\"landcolor\":\"#E5ECF6\",\"subunitcolor\":\"white\",\"showland\":true,\"showlakes\":true,\"lakecolor\":\"white\"},\"title\":{\"x\":0.05},\"mapbox\":{\"style\":\"light\"}}},\"xaxis\":{\"anchor\":\"y\",\"domain\":[0.0,1.0],\"title\":{\"text\":\"HourInterval\"}},\"yaxis\":{\"anchor\":\"x\",\"domain\":[0.0,1.0],\"title\":{\"text\":\"TotalAgents\"}},\"legend\":{\"tracegroupgap\":0},\"title\":{\"text\":\"ממוצע נציגים פר שעה\"}},                        {\"responsive\": true}                    ).then(function(){\n",
              "                            \n",
              "var gd = document.getElementById('eea22e09-f9bf-43ed-9685-1e7802b6371e');\n",
              "var x = new MutationObserver(function (mutations, observer) {{\n",
              "        var display = window.getComputedStyle(gd).display;\n",
              "        if (!display || display === 'none') {{\n",
              "            console.log([gd, 'removed!']);\n",
              "            Plotly.purge(gd);\n",
              "            observer.disconnect();\n",
              "        }}\n",
              "}});\n",
              "\n",
              "// Listen for the removal of the full notebook cells\n",
              "var notebookContainer = gd.closest('#notebook-container');\n",
              "if (notebookContainer) {{\n",
              "    x.observe(notebookContainer, {childList: true});\n",
              "}}\n",
              "\n",
              "// Listen for the clearing of the current output cell\n",
              "var outputEl = gd.closest('.output');\n",
              "if (outputEl) {{\n",
              "    x.observe(outputEl, {childList: true});\n",
              "}}\n",
              "\n",
              "                        })                };                            </script>        </div>\n",
              "</body>\n",
              "</html>"
            ]
          },
          "metadata": {}
        }
      ]
    },
    {
      "cell_type": "markdown",
      "source": [
        "## המרת תאריכים"
      ],
      "metadata": {
        "id": "lN8Lh4KAzVmM"
      }
    },
    {
      "cell_type": "code",
      "source": [
        "cc_df['QueueStartDate'] = pd.to_datetime(cc_df['QueueStartDate'], format=\"%d/%m/%Y\")\n",
        "cc_df.rename(columns={'QueueStartDate': 'Date'}, inplace=True)\n",
        "holidays_df['Date'] = pd.to_datetime(holidays_df['Date'])"
      ],
      "metadata": {
        "id": "WP9X6KTeySsT"
      },
      "execution_count": 39,
      "outputs": []
    },
    {
      "cell_type": "markdown",
      "source": [
        "## שינוי שמות עמודות (לשמות באנגלית אחידים)"
      ],
      "metadata": {
        "id": "-v0xHujXzlls"
      }
    },
    {
      "cell_type": "code",
      "source": [
        "cc_df.columns = [col.strip().replace(\" \", \"_\").replace(\"-\", \"_\") for col in cc_df.columns]\n",
        "holidays_df.columns = [col.strip().replace(\" \", \"_\").replace(\"-\", \"_\") for col in holidays_df.columns]"
      ],
      "metadata": {
        "id": "oWzZXnvazmXZ"
      },
      "execution_count": 40,
      "outputs": []
    },
    {
      "cell_type": "markdown",
      "source": [
        "## מיזוג חגים לפי תאריך"
      ],
      "metadata": {
        "id": "HSJkiwco-Pue"
      }
    },
    {
      "cell_type": "code",
      "source": [
        "cc_df = cc_df.merge(holidays_df[['Date', 'IsHoliday', 'IsHolidayEve']], on='Date', how='left')"
      ],
      "metadata": {
        "id": "dfyKELur-WcN"
      },
      "execution_count": 41,
      "outputs": []
    },
    {
      "cell_type": "code",
      "source": [
        "# אם יש ערכים חסרים – נמלא ב-0\n",
        "cc_df['IsHoliday'] = cc_df['IsHoliday'].fillna(0).astype(int)\n",
        "cc_df['IsHolidayEve'] = cc_df['IsHolidayEve'].fillna(0).astype(int)"
      ],
      "metadata": {
        "id": "1_PoiGhS-kev"
      },
      "execution_count": 42,
      "outputs": []
    },
    {
      "cell_type": "markdown",
      "source": [
        "## יצירת עמודה מספרית Interval"
      ],
      "metadata": {
        "id": "NAvdbzZC0i3I"
      }
    },
    {
      "cell_type": "code",
      "source": [
        "cc_df['Interval'] = cc_df['HourInterval'].apply(lambda x: int(x.split(':')[0]))"
      ],
      "metadata": {
        "id": "et-w5-R80qiq"
      },
      "execution_count": 43,
      "outputs": []
    },
    {
      "cell_type": "markdown",
      "source": [
        "## הכנת פיצ'רים"
      ],
      "metadata": {
        "id": "IkKZTIf_zulS"
      }
    },
    {
      "cell_type": "code",
      "source": [
        "if 'Weekday' not in cc_df.columns and 'QueueStartDateNumber' in cc_df.columns:\n",
        "    weekday_map = {\n",
        "        1: 6, 2: 0, 3: 1, 4: 2, 5: 3, 6: 4, 7: 5\n",
        "    }\n",
        "    cc_df['Weekday'] = cc_df['QueueStartDateNumber'].map(weekday_map)"
      ],
      "metadata": {
        "id": "8nb4PXA_9wPq"
      },
      "execution_count": 44,
      "outputs": []
    },
    {
      "cell_type": "code",
      "source": [
        "cc_df['HourSin'] = np.sin(2 * np.pi * cc_df['Interval']/24)\n",
        "cc_df['HourCos'] = np.cos(2 * np.pi * cc_df['Interval']/24)\n",
        "cc_df['WeekdaySin'] = np.sin(2 * np.pi * cc_df['Weekday']/7)\n",
        "cc_df['WeekdayCos'] = np.cos(2 * np.pi * cc_df['Weekday']/7)\n",
        "\n",
        "# Lag מינימלי\n",
        "cc_df = cc_df.sort_values(['Date','Interval'])\n",
        "cc_df['Lag1'] = cc_df['TotalAgents'].shift(24)\n",
        "cc_df.bfill(inplace=True)\n"
      ],
      "metadata": {
        "id": "8S6JAeSezy28"
      },
      "execution_count": 45,
      "outputs": []
    },
    {
      "cell_type": "markdown",
      "source": [
        "## סינון עמודות רוונטיות"
      ],
      "metadata": {
        "id": "g4inkwNh0D_u"
      }
    },
    {
      "cell_type": "code",
      "source": [
        "feature_cols = [\n",
        "    'Interval','Weekday','IsHoliday','IsHolidayEve',\n",
        "    'HourSin','HourCos','WeekdaySin','WeekdayCos',\n",
        "    'Lag1','TotalAgents'\n",
        "]\n",
        "data = cc_df[feature_cols]\n"
      ],
      "metadata": {
        "id": "v4aPz7ew0H2b"
      },
      "execution_count": 46,
      "outputs": []
    },
    {
      "cell_type": "markdown",
      "source": [
        "## נורמליזציה"
      ],
      "metadata": {
        "id": "EhO5Qvds0OGs"
      }
    },
    {
      "cell_type": "code",
      "source": [
        "scaler = MinMaxScaler()\n",
        "scaled_features = scaler.fit_transform(data)\n",
        "scaled_df = pd.DataFrame(scaled_features, columns=feature_cols)\n",
        "scaled_df['Date'] = cc_df['Date'].values"
      ],
      "metadata": {
        "id": "6Xjd0hR90M6X"
      },
      "execution_count": 47,
      "outputs": []
    },
    {
      "cell_type": "markdown",
      "source": [
        "# בניית מודל LSTM"
      ],
      "metadata": {
        "id": "hmpT3qwD09p6"
      }
    },
    {
      "cell_type": "markdown",
      "source": [
        "##  הכנת הנתונים למודל\n"
      ],
      "metadata": {
        "id": "chE1upzP1M_6"
      }
    },
    {
      "cell_type": "code",
      "source": [
        "def create_sequences(df, seq_length=24):\n",
        "    X, y = [], []\n",
        "    for i in range(len(df) - seq_length):\n",
        "        X.append(df.iloc[i:i+seq_length, :-1].values)\n",
        "        y.append(df.iloc[i+seq_length, -1])\n",
        "    return np.array(X), np.array(y)\n",
        "\n",
        "scaled_df = scaled_df.sort_values('Date')\n",
        "X, y = create_sequences(scaled_df[feature_cols])\n",
        "\n",
        "split = int(len(X)*0.8)\n",
        "X_train, X_test = X[:split], X[split:]\n",
        "y_train, y_test = y[:split], y[split:]"
      ],
      "metadata": {
        "id": "1ru3DjbX1ZEm"
      },
      "execution_count": 48,
      "outputs": []
    },
    {
      "cell_type": "markdown",
      "source": [
        "## בניית המודל"
      ],
      "metadata": {
        "id": "L66SdEbq1PwS"
      }
    },
    {
      "cell_type": "code",
      "source": [
        "model = Sequential([\n",
        "    Input(shape=(X_train.shape[1], X_train.shape[2])),\n",
        "    LSTM(64, return_sequences=True, dropout=0.2),\n",
        "    LSTM(32, dropout=0.2),\n",
        "    Dense(16, activation='relu'),\n",
        "    Dense(1)\n",
        "])"
      ],
      "metadata": {
        "id": "1FUKTali0_VB"
      },
      "execution_count": 49,
      "outputs": []
    },
    {
      "cell_type": "code",
      "source": [
        "model.summary()"
      ],
      "metadata": {
        "colab": {
          "base_uri": "https://localhost:8080/",
          "height": 272
        },
        "id": "CJKt6o2X1-AG",
        "outputId": "ee97b99b-e64f-46ad-8302-ba3ab46dcf41"
      },
      "execution_count": 50,
      "outputs": [
        {
          "output_type": "display_data",
          "data": {
            "text/plain": [
              "\u001b[1mModel: \"sequential_1\"\u001b[0m\n"
            ],
            "text/html": [
              "<pre style=\"white-space:pre;overflow-x:auto;line-height:normal;font-family:Menlo,'DejaVu Sans Mono',consolas,'Courier New',monospace\"><span style=\"font-weight: bold\">Model: \"sequential_1\"</span>\n",
              "</pre>\n"
            ]
          },
          "metadata": {}
        },
        {
          "output_type": "display_data",
          "data": {
            "text/plain": [
              "┏━━━━━━━━━━━━━━━━━━━━━━━━━━━━━━━━━┳━━━━━━━━━━━━━━━━━━━━━━━━┳━━━━━━━━━━━━━━━┓\n",
              "┃\u001b[1m \u001b[0m\u001b[1mLayer (type)                   \u001b[0m\u001b[1m \u001b[0m┃\u001b[1m \u001b[0m\u001b[1mOutput Shape          \u001b[0m\u001b[1m \u001b[0m┃\u001b[1m \u001b[0m\u001b[1m      Param #\u001b[0m\u001b[1m \u001b[0m┃\n",
              "┡━━━━━━━━━━━━━━━━━━━━━━━━━━━━━━━━━╇━━━━━━━━━━━━━━━━━━━━━━━━╇━━━━━━━━━━━━━━━┩\n",
              "│ lstm_3 (\u001b[38;5;33mLSTM\u001b[0m)                   │ (\u001b[38;5;45mNone\u001b[0m, \u001b[38;5;34m24\u001b[0m, \u001b[38;5;34m64\u001b[0m)         │        \u001b[38;5;34m18,944\u001b[0m │\n",
              "├─────────────────────────────────┼────────────────────────┼───────────────┤\n",
              "│ lstm_4 (\u001b[38;5;33mLSTM\u001b[0m)                   │ (\u001b[38;5;45mNone\u001b[0m, \u001b[38;5;34m32\u001b[0m)             │        \u001b[38;5;34m12,416\u001b[0m │\n",
              "├─────────────────────────────────┼────────────────────────┼───────────────┤\n",
              "│ dense_2 (\u001b[38;5;33mDense\u001b[0m)                 │ (\u001b[38;5;45mNone\u001b[0m, \u001b[38;5;34m16\u001b[0m)             │           \u001b[38;5;34m528\u001b[0m │\n",
              "├─────────────────────────────────┼────────────────────────┼───────────────┤\n",
              "│ dense_3 (\u001b[38;5;33mDense\u001b[0m)                 │ (\u001b[38;5;45mNone\u001b[0m, \u001b[38;5;34m1\u001b[0m)              │            \u001b[38;5;34m17\u001b[0m │\n",
              "└─────────────────────────────────┴────────────────────────┴───────────────┘\n"
            ],
            "text/html": [
              "<pre style=\"white-space:pre;overflow-x:auto;line-height:normal;font-family:Menlo,'DejaVu Sans Mono',consolas,'Courier New',monospace\">┏━━━━━━━━━━━━━━━━━━━━━━━━━━━━━━━━━┳━━━━━━━━━━━━━━━━━━━━━━━━┳━━━━━━━━━━━━━━━┓\n",
              "┃<span style=\"font-weight: bold\"> Layer (type)                    </span>┃<span style=\"font-weight: bold\"> Output Shape           </span>┃<span style=\"font-weight: bold\">       Param # </span>┃\n",
              "┡━━━━━━━━━━━━━━━━━━━━━━━━━━━━━━━━━╇━━━━━━━━━━━━━━━━━━━━━━━━╇━━━━━━━━━━━━━━━┩\n",
              "│ lstm_3 (<span style=\"color: #0087ff; text-decoration-color: #0087ff\">LSTM</span>)                   │ (<span style=\"color: #00d7ff; text-decoration-color: #00d7ff\">None</span>, <span style=\"color: #00af00; text-decoration-color: #00af00\">24</span>, <span style=\"color: #00af00; text-decoration-color: #00af00\">64</span>)         │        <span style=\"color: #00af00; text-decoration-color: #00af00\">18,944</span> │\n",
              "├─────────────────────────────────┼────────────────────────┼───────────────┤\n",
              "│ lstm_4 (<span style=\"color: #0087ff; text-decoration-color: #0087ff\">LSTM</span>)                   │ (<span style=\"color: #00d7ff; text-decoration-color: #00d7ff\">None</span>, <span style=\"color: #00af00; text-decoration-color: #00af00\">32</span>)             │        <span style=\"color: #00af00; text-decoration-color: #00af00\">12,416</span> │\n",
              "├─────────────────────────────────┼────────────────────────┼───────────────┤\n",
              "│ dense_2 (<span style=\"color: #0087ff; text-decoration-color: #0087ff\">Dense</span>)                 │ (<span style=\"color: #00d7ff; text-decoration-color: #00d7ff\">None</span>, <span style=\"color: #00af00; text-decoration-color: #00af00\">16</span>)             │           <span style=\"color: #00af00; text-decoration-color: #00af00\">528</span> │\n",
              "├─────────────────────────────────┼────────────────────────┼───────────────┤\n",
              "│ dense_3 (<span style=\"color: #0087ff; text-decoration-color: #0087ff\">Dense</span>)                 │ (<span style=\"color: #00d7ff; text-decoration-color: #00d7ff\">None</span>, <span style=\"color: #00af00; text-decoration-color: #00af00\">1</span>)              │            <span style=\"color: #00af00; text-decoration-color: #00af00\">17</span> │\n",
              "└─────────────────────────────────┴────────────────────────┴───────────────┘\n",
              "</pre>\n"
            ]
          },
          "metadata": {}
        },
        {
          "output_type": "display_data",
          "data": {
            "text/plain": [
              "\u001b[1m Total params: \u001b[0m\u001b[38;5;34m31,905\u001b[0m (124.63 KB)\n"
            ],
            "text/html": [
              "<pre style=\"white-space:pre;overflow-x:auto;line-height:normal;font-family:Menlo,'DejaVu Sans Mono',consolas,'Courier New',monospace\"><span style=\"font-weight: bold\"> Total params: </span><span style=\"color: #00af00; text-decoration-color: #00af00\">31,905</span> (124.63 KB)\n",
              "</pre>\n"
            ]
          },
          "metadata": {}
        },
        {
          "output_type": "display_data",
          "data": {
            "text/plain": [
              "\u001b[1m Trainable params: \u001b[0m\u001b[38;5;34m31,905\u001b[0m (124.63 KB)\n"
            ],
            "text/html": [
              "<pre style=\"white-space:pre;overflow-x:auto;line-height:normal;font-family:Menlo,'DejaVu Sans Mono',consolas,'Courier New',monospace\"><span style=\"font-weight: bold\"> Trainable params: </span><span style=\"color: #00af00; text-decoration-color: #00af00\">31,905</span> (124.63 KB)\n",
              "</pre>\n"
            ]
          },
          "metadata": {}
        },
        {
          "output_type": "display_data",
          "data": {
            "text/plain": [
              "\u001b[1m Non-trainable params: \u001b[0m\u001b[38;5;34m0\u001b[0m (0.00 B)\n"
            ],
            "text/html": [
              "<pre style=\"white-space:pre;overflow-x:auto;line-height:normal;font-family:Menlo,'DejaVu Sans Mono',consolas,'Courier New',monospace\"><span style=\"font-weight: bold\"> Non-trainable params: </span><span style=\"color: #00af00; text-decoration-color: #00af00\">0</span> (0.00 B)\n",
              "</pre>\n"
            ]
          },
          "metadata": {}
        }
      ]
    },
    {
      "cell_type": "code",
      "source": [
        "model.compile(optimizer=tf.keras.optimizers.Adam(learning_rate=0.001), loss='mse')"
      ],
      "metadata": {
        "id": "2BO-AWvt2VhL"
      },
      "execution_count": 51,
      "outputs": []
    },
    {
      "cell_type": "code",
      "source": [
        "early_stop = EarlyStopping(monitor='val_loss', patience=10, restore_best_weights=True)\n",
        "reduce_lr = ReduceLROnPlateau(monitor='val_loss', factor=0.5, patience=5, min_lr=1e-6)"
      ],
      "metadata": {
        "id": "eBjtKPDt2Z4i"
      },
      "execution_count": 52,
      "outputs": []
    },
    {
      "cell_type": "code",
      "source": [
        "history = model.fit(\n",
        "    X_train, y_train,\n",
        "    validation_data=(X_test, y_test),\n",
        "    epochs=50,\n",
        "    batch_size=32,\n",
        "    callbacks=[early_stop, reduce_lr],\n",
        "    verbose=1\n",
        ")"
      ],
      "metadata": {
        "colab": {
          "base_uri": "https://localhost:8080/"
        },
        "id": "jPuAvhRe2c6Z",
        "outputId": "987ee7ae-cc17-4701-dfa4-b61b6a6bded0"
      },
      "execution_count": 53,
      "outputs": [
        {
          "output_type": "stream",
          "name": "stdout",
          "text": [
            "Epoch 1/50\n",
            "\u001b[1m852/852\u001b[0m \u001b[32m━━━━━━━━━━━━━━━━━━━━\u001b[0m\u001b[37m\u001b[0m \u001b[1m10s\u001b[0m 9ms/step - loss: 0.0538 - val_loss: 0.0686 - learning_rate: 0.0010\n",
            "Epoch 2/50\n",
            "\u001b[1m852/852\u001b[0m \u001b[32m━━━━━━━━━━━━━━━━━━━━\u001b[0m\u001b[37m\u001b[0m \u001b[1m9s\u001b[0m 8ms/step - loss: 0.0377 - val_loss: 0.0620 - learning_rate: 0.0010\n",
            "Epoch 3/50\n",
            "\u001b[1m852/852\u001b[0m \u001b[32m━━━━━━━━━━━━━━━━━━━━\u001b[0m\u001b[37m\u001b[0m \u001b[1m6s\u001b[0m 7ms/step - loss: 0.0349 - val_loss: 0.0612 - learning_rate: 0.0010\n",
            "Epoch 4/50\n",
            "\u001b[1m852/852\u001b[0m \u001b[32m━━━━━━━━━━━━━━━━━━━━\u001b[0m\u001b[37m\u001b[0m \u001b[1m7s\u001b[0m 8ms/step - loss: 0.0330 - val_loss: 0.0618 - learning_rate: 0.0010\n",
            "Epoch 5/50\n",
            "\u001b[1m852/852\u001b[0m \u001b[32m━━━━━━━━━━━━━━━━━━━━\u001b[0m\u001b[37m\u001b[0m \u001b[1m10s\u001b[0m 8ms/step - loss: 0.0325 - val_loss: 0.0515 - learning_rate: 0.0010\n",
            "Epoch 6/50\n",
            "\u001b[1m852/852\u001b[0m \u001b[32m━━━━━━━━━━━━━━━━━━━━\u001b[0m\u001b[37m\u001b[0m \u001b[1m6s\u001b[0m 7ms/step - loss: 0.0314 - val_loss: 0.0609 - learning_rate: 0.0010\n",
            "Epoch 7/50\n",
            "\u001b[1m852/852\u001b[0m \u001b[32m━━━━━━━━━━━━━━━━━━━━\u001b[0m\u001b[37m\u001b[0m \u001b[1m12s\u001b[0m 10ms/step - loss: 0.0304 - val_loss: 0.0534 - learning_rate: 0.0010\n",
            "Epoch 8/50\n",
            "\u001b[1m852/852\u001b[0m \u001b[32m━━━━━━━━━━━━━━━━━━━━\u001b[0m\u001b[37m\u001b[0m \u001b[1m10s\u001b[0m 11ms/step - loss: 0.0289 - val_loss: 0.0516 - learning_rate: 0.0010\n",
            "Epoch 9/50\n",
            "\u001b[1m852/852\u001b[0m \u001b[32m━━━━━━━━━━━━━━━━━━━━\u001b[0m\u001b[37m\u001b[0m \u001b[1m8s\u001b[0m 8ms/step - loss: 0.0290 - val_loss: 0.0506 - learning_rate: 0.0010\n",
            "Epoch 10/50\n",
            "\u001b[1m852/852\u001b[0m \u001b[32m━━━━━━━━━━━━━━━━━━━━\u001b[0m\u001b[37m\u001b[0m \u001b[1m10s\u001b[0m 8ms/step - loss: 0.0285 - val_loss: 0.0506 - learning_rate: 0.0010\n",
            "Epoch 11/50\n",
            "\u001b[1m852/852\u001b[0m \u001b[32m━━━━━━━━━━━━━━━━━━━━\u001b[0m\u001b[37m\u001b[0m \u001b[1m6s\u001b[0m 8ms/step - loss: 0.0273 - val_loss: 0.0495 - learning_rate: 0.0010\n",
            "Epoch 12/50\n",
            "\u001b[1m852/852\u001b[0m \u001b[32m━━━━━━━━━━━━━━━━━━━━\u001b[0m\u001b[37m\u001b[0m \u001b[1m11s\u001b[0m 8ms/step - loss: 0.0272 - val_loss: 0.0483 - learning_rate: 0.0010\n",
            "Epoch 13/50\n",
            "\u001b[1m852/852\u001b[0m \u001b[32m━━━━━━━━━━━━━━━━━━━━\u001b[0m\u001b[37m\u001b[0m \u001b[1m11s\u001b[0m 9ms/step - loss: 0.0266 - val_loss: 0.0462 - learning_rate: 0.0010\n",
            "Epoch 14/50\n",
            "\u001b[1m852/852\u001b[0m \u001b[32m━━━━━━━━━━━━━━━━━━━━\u001b[0m\u001b[37m\u001b[0m \u001b[1m10s\u001b[0m 8ms/step - loss: 0.0258 - val_loss: 0.0460 - learning_rate: 0.0010\n",
            "Epoch 15/50\n",
            "\u001b[1m852/852\u001b[0m \u001b[32m━━━━━━━━━━━━━━━━━━━━\u001b[0m\u001b[37m\u001b[0m \u001b[1m7s\u001b[0m 8ms/step - loss: 0.0260 - val_loss: 0.0461 - learning_rate: 0.0010\n",
            "Epoch 16/50\n",
            "\u001b[1m852/852\u001b[0m \u001b[32m━━━━━━━━━━━━━━━━━━━━\u001b[0m\u001b[37m\u001b[0m \u001b[1m10s\u001b[0m 8ms/step - loss: 0.0252 - val_loss: 0.0458 - learning_rate: 0.0010\n",
            "Epoch 17/50\n",
            "\u001b[1m852/852\u001b[0m \u001b[32m━━━━━━━━━━━━━━━━━━━━\u001b[0m\u001b[37m\u001b[0m \u001b[1m11s\u001b[0m 9ms/step - loss: 0.0254 - val_loss: 0.0447 - learning_rate: 0.0010\n",
            "Epoch 18/50\n",
            "\u001b[1m852/852\u001b[0m \u001b[32m━━━━━━━━━━━━━━━━━━━━\u001b[0m\u001b[37m\u001b[0m \u001b[1m10s\u001b[0m 8ms/step - loss: 0.0252 - val_loss: 0.0435 - learning_rate: 0.0010\n",
            "Epoch 19/50\n",
            "\u001b[1m852/852\u001b[0m \u001b[32m━━━━━━━━━━━━━━━━━━━━\u001b[0m\u001b[37m\u001b[0m \u001b[1m10s\u001b[0m 9ms/step - loss: 0.0243 - val_loss: 0.0444 - learning_rate: 0.0010\n",
            "Epoch 20/50\n",
            "\u001b[1m852/852\u001b[0m \u001b[32m━━━━━━━━━━━━━━━━━━━━\u001b[0m\u001b[37m\u001b[0m \u001b[1m6s\u001b[0m 8ms/step - loss: 0.0242 - val_loss: 0.0448 - learning_rate: 0.0010\n",
            "Epoch 21/50\n",
            "\u001b[1m852/852\u001b[0m \u001b[32m━━━━━━━━━━━━━━━━━━━━\u001b[0m\u001b[37m\u001b[0m \u001b[1m11s\u001b[0m 8ms/step - loss: 0.0243 - val_loss: 0.0440 - learning_rate: 0.0010\n",
            "Epoch 22/50\n",
            "\u001b[1m852/852\u001b[0m \u001b[32m━━━━━━━━━━━━━━━━━━━━\u001b[0m\u001b[37m\u001b[0m \u001b[1m10s\u001b[0m 8ms/step - loss: 0.0238 - val_loss: 0.0448 - learning_rate: 0.0010\n",
            "Epoch 23/50\n",
            "\u001b[1m852/852\u001b[0m \u001b[32m━━━━━━━━━━━━━━━━━━━━\u001b[0m\u001b[37m\u001b[0m \u001b[1m8s\u001b[0m 9ms/step - loss: 0.0232 - val_loss: 0.0439 - learning_rate: 0.0010\n",
            "Epoch 24/50\n",
            "\u001b[1m852/852\u001b[0m \u001b[32m━━━━━━━━━━━━━━━━━━━━\u001b[0m\u001b[37m\u001b[0m \u001b[1m7s\u001b[0m 8ms/step - loss: 0.0223 - val_loss: 0.0417 - learning_rate: 5.0000e-04\n",
            "Epoch 25/50\n",
            "\u001b[1m852/852\u001b[0m \u001b[32m━━━━━━━━━━━━━━━━━━━━\u001b[0m\u001b[37m\u001b[0m \u001b[1m8s\u001b[0m 9ms/step - loss: 0.0220 - val_loss: 0.0423 - learning_rate: 5.0000e-04\n",
            "Epoch 26/50\n",
            "\u001b[1m852/852\u001b[0m \u001b[32m━━━━━━━━━━━━━━━━━━━━\u001b[0m\u001b[37m\u001b[0m \u001b[1m10s\u001b[0m 8ms/step - loss: 0.0222 - val_loss: 0.0413 - learning_rate: 5.0000e-04\n",
            "Epoch 27/50\n",
            "\u001b[1m852/852\u001b[0m \u001b[32m━━━━━━━━━━━━━━━━━━━━\u001b[0m\u001b[37m\u001b[0m \u001b[1m10s\u001b[0m 8ms/step - loss: 0.0223 - val_loss: 0.0418 - learning_rate: 5.0000e-04\n",
            "Epoch 28/50\n",
            "\u001b[1m852/852\u001b[0m \u001b[32m━━━━━━━━━━━━━━━━━━━━\u001b[0m\u001b[37m\u001b[0m \u001b[1m6s\u001b[0m 7ms/step - loss: 0.0215 - val_loss: 0.0415 - learning_rate: 5.0000e-04\n",
            "Epoch 29/50\n",
            "\u001b[1m852/852\u001b[0m \u001b[32m━━━━━━━━━━━━━━━━━━━━\u001b[0m\u001b[37m\u001b[0m \u001b[1m7s\u001b[0m 8ms/step - loss: 0.0207 - val_loss: 0.0417 - learning_rate: 5.0000e-04\n",
            "Epoch 30/50\n",
            "\u001b[1m852/852\u001b[0m \u001b[32m━━━━━━━━━━━━━━━━━━━━\u001b[0m\u001b[37m\u001b[0m \u001b[1m7s\u001b[0m 8ms/step - loss: 0.0212 - val_loss: 0.0414 - learning_rate: 5.0000e-04\n",
            "Epoch 31/50\n",
            "\u001b[1m852/852\u001b[0m \u001b[32m━━━━━━━━━━━━━━━━━━━━\u001b[0m\u001b[37m\u001b[0m \u001b[1m7s\u001b[0m 8ms/step - loss: 0.0210 - val_loss: 0.0435 - learning_rate: 5.0000e-04\n",
            "Epoch 32/50\n",
            "\u001b[1m852/852\u001b[0m \u001b[32m━━━━━━━━━━━━━━━━━━━━\u001b[0m\u001b[37m\u001b[0m \u001b[1m7s\u001b[0m 8ms/step - loss: 0.0203 - val_loss: 0.0409 - learning_rate: 2.5000e-04\n",
            "Epoch 33/50\n",
            "\u001b[1m852/852\u001b[0m \u001b[32m━━━━━━━━━━━━━━━━━━━━\u001b[0m\u001b[37m\u001b[0m \u001b[1m10s\u001b[0m 8ms/step - loss: 0.0199 - val_loss: 0.0403 - learning_rate: 2.5000e-04\n",
            "Epoch 34/50\n",
            "\u001b[1m852/852\u001b[0m \u001b[32m━━━━━━━━━━━━━━━━━━━━\u001b[0m\u001b[37m\u001b[0m \u001b[1m8s\u001b[0m 9ms/step - loss: 0.0202 - val_loss: 0.0402 - learning_rate: 2.5000e-04\n",
            "Epoch 35/50\n",
            "\u001b[1m852/852\u001b[0m \u001b[32m━━━━━━━━━━━━━━━━━━━━\u001b[0m\u001b[37m\u001b[0m \u001b[1m7s\u001b[0m 8ms/step - loss: 0.0200 - val_loss: 0.0394 - learning_rate: 2.5000e-04\n",
            "Epoch 36/50\n",
            "\u001b[1m852/852\u001b[0m \u001b[32m━━━━━━━━━━━━━━━━━━━━\u001b[0m\u001b[37m\u001b[0m \u001b[1m7s\u001b[0m 9ms/step - loss: 0.0199 - val_loss: 0.0394 - learning_rate: 2.5000e-04\n",
            "Epoch 37/50\n",
            "\u001b[1m852/852\u001b[0m \u001b[32m━━━━━━━━━━━━━━━━━━━━\u001b[0m\u001b[37m\u001b[0m \u001b[1m11s\u001b[0m 9ms/step - loss: 0.0196 - val_loss: 0.0396 - learning_rate: 2.5000e-04\n",
            "Epoch 38/50\n",
            "\u001b[1m852/852\u001b[0m \u001b[32m━━━━━━━━━━━━━━━━━━━━\u001b[0m\u001b[37m\u001b[0m \u001b[1m7s\u001b[0m 9ms/step - loss: 0.0191 - val_loss: 0.0404 - learning_rate: 2.5000e-04\n",
            "Epoch 39/50\n",
            "\u001b[1m852/852\u001b[0m \u001b[32m━━━━━━━━━━━━━━━━━━━━\u001b[0m\u001b[37m\u001b[0m \u001b[1m10s\u001b[0m 8ms/step - loss: 0.0201 - val_loss: 0.0406 - learning_rate: 2.5000e-04\n",
            "Epoch 40/50\n",
            "\u001b[1m852/852\u001b[0m \u001b[32m━━━━━━━━━━━━━━━━━━━━\u001b[0m\u001b[37m\u001b[0m \u001b[1m10s\u001b[0m 8ms/step - loss: 0.0200 - val_loss: 0.0402 - learning_rate: 2.5000e-04\n",
            "Epoch 41/50\n",
            "\u001b[1m852/852\u001b[0m \u001b[32m━━━━━━━━━━━━━━━━━━━━\u001b[0m\u001b[37m\u001b[0m \u001b[1m8s\u001b[0m 9ms/step - loss: 0.0195 - val_loss: 0.0398 - learning_rate: 1.2500e-04\n",
            "Epoch 42/50\n",
            "\u001b[1m852/852\u001b[0m \u001b[32m━━━━━━━━━━━━━━━━━━━━\u001b[0m\u001b[37m\u001b[0m \u001b[1m7s\u001b[0m 8ms/step - loss: 0.0193 - val_loss: 0.0394 - learning_rate: 1.2500e-04\n",
            "Epoch 43/50\n",
            "\u001b[1m852/852\u001b[0m \u001b[32m━━━━━━━━━━━━━━━━━━━━\u001b[0m\u001b[37m\u001b[0m \u001b[1m10s\u001b[0m 8ms/step - loss: 0.0192 - val_loss: 0.0391 - learning_rate: 1.2500e-04\n",
            "Epoch 44/50\n",
            "\u001b[1m852/852\u001b[0m \u001b[32m━━━━━━━━━━━━━━━━━━━━\u001b[0m\u001b[37m\u001b[0m \u001b[1m10s\u001b[0m 8ms/step - loss: 0.0196 - val_loss: 0.0389 - learning_rate: 1.2500e-04\n",
            "Epoch 45/50\n",
            "\u001b[1m852/852\u001b[0m \u001b[32m━━━━━━━━━━━━━━━━━━━━\u001b[0m\u001b[37m\u001b[0m \u001b[1m10s\u001b[0m 8ms/step - loss: 0.0188 - val_loss: 0.0392 - learning_rate: 1.2500e-04\n",
            "Epoch 46/50\n",
            "\u001b[1m852/852\u001b[0m \u001b[32m━━━━━━━━━━━━━━━━━━━━\u001b[0m\u001b[37m\u001b[0m \u001b[1m11s\u001b[0m 9ms/step - loss: 0.0196 - val_loss: 0.0392 - learning_rate: 1.2500e-04\n",
            "Epoch 47/50\n",
            "\u001b[1m852/852\u001b[0m \u001b[32m━━━━━━━━━━━━━━━━━━━━\u001b[0m\u001b[37m\u001b[0m \u001b[1m8s\u001b[0m 9ms/step - loss: 0.0190 - val_loss: 0.0393 - learning_rate: 1.2500e-04\n",
            "Epoch 48/50\n",
            "\u001b[1m852/852\u001b[0m \u001b[32m━━━━━━━━━━━━━━━━━━━━\u001b[0m\u001b[37m\u001b[0m \u001b[1m6s\u001b[0m 8ms/step - loss: 0.0187 - val_loss: 0.0392 - learning_rate: 1.2500e-04\n",
            "Epoch 49/50\n",
            "\u001b[1m852/852\u001b[0m \u001b[32m━━━━━━━━━━━━━━━━━━━━\u001b[0m\u001b[37m\u001b[0m \u001b[1m7s\u001b[0m 8ms/step - loss: 0.0191 - val_loss: 0.0390 - learning_rate: 1.2500e-04\n",
            "Epoch 50/50\n",
            "\u001b[1m852/852\u001b[0m \u001b[32m━━━━━━━━━━━━━━━━━━━━\u001b[0m\u001b[37m\u001b[0m \u001b[1m6s\u001b[0m 8ms/step - loss: 0.0191 - val_loss: 0.0390 - learning_rate: 6.2500e-05\n"
          ]
        }
      ]
    },
    {
      "cell_type": "markdown",
      "source": [
        "## הערכת ביצועים"
      ],
      "metadata": {
        "id": "WoN-Fj1l2ie0"
      }
    },
    {
      "cell_type": "code",
      "source": [
        "fig_loss = go.Figure()\n",
        "fig_loss.add_trace(go.Scatter(y=history.history['loss'], mode='lines', name='Train Loss'))\n",
        "fig_loss.add_trace(go.Scatter(y=history.history['val_loss'], mode='lines', name='Validation Loss'))\n",
        "fig_loss.update_layout(title=\"Training vs Validation Loss\", xaxis_title=\"Epoch\", yaxis_title=\"Loss\")\n",
        "fig_loss.show()"
      ],
      "metadata": {
        "colab": {
          "base_uri": "https://localhost:8080/",
          "height": 542
        },
        "id": "27MOCpaUHTIE",
        "outputId": "28eec807-e209-4df7-de26-39e43041c190"
      },
      "execution_count": 59,
      "outputs": [
        {
          "output_type": "display_data",
          "data": {
            "text/html": [
              "<html>\n",
              "<head><meta charset=\"utf-8\" /></head>\n",
              "<body>\n",
              "    <div>            <script src=\"https://cdnjs.cloudflare.com/ajax/libs/mathjax/2.7.5/MathJax.js?config=TeX-AMS-MML_SVG\"></script><script type=\"text/javascript\">if (window.MathJax && window.MathJax.Hub && window.MathJax.Hub.Config) {window.MathJax.Hub.Config({SVG: {font: \"STIX-Web\"}});}</script>                <script type=\"text/javascript\">window.PlotlyConfig = {MathJaxConfig: 'local'};</script>\n",
              "        <script charset=\"utf-8\" src=\"https://cdn.plot.ly/plotly-2.35.2.min.js\"></script>                <div id=\"cdf0de89-1c30-4dd1-b00b-0e769b0152a4\" class=\"plotly-graph-div\" style=\"height:525px; width:100%;\"></div>            <script type=\"text/javascript\">                                    window.PLOTLYENV=window.PLOTLYENV || {};                                    if (document.getElementById(\"cdf0de89-1c30-4dd1-b00b-0e769b0152a4\")) {                    Plotly.newPlot(                        \"cdf0de89-1c30-4dd1-b00b-0e769b0152a4\",                        [{\"mode\":\"lines\",\"name\":\"Train Loss\",\"y\":[0.04426136612892151,0.036926351487636566,0.03449011594057083,0.03280407190322876,0.03176205977797508,0.030972037464380264,0.03005852736532688,0.029050877317786217,0.028726009652018547,0.028205053880810738,0.027475232258439064,0.02686292678117752,0.02678246609866619,0.026438167318701744,0.025834284722805023,0.025285860523581505,0.024978887289762497,0.024570472538471222,0.02439863607287407,0.023898256942629814,0.023767290636897087,0.023644743487238884,0.023154662922024727,0.022085102275013924,0.02173043042421341,0.021701686084270477,0.021887876093387604,0.0211821049451828,0.021342149004340172,0.0214642733335495,0.02092098630964756,0.020262233912944794,0.020333359017968178,0.020430468022823334,0.019950684159994125,0.01985865831375122,0.01981337182223797,0.019499406218528748,0.019883539527654648,0.020048722624778748,0.019528141245245934,0.01915448158979416,0.019504906609654427,0.01931452564895153,0.0192425400018692,0.019204726442694664,0.01925806514918804,0.019114229828119278,0.01931062899529934,0.019005153328180313],\"type\":\"scatter\"},{\"mode\":\"lines\",\"name\":\"Validation Loss\",\"y\":[0.06862623244524002,0.0619514137506485,0.06118358299136162,0.0617762915790081,0.05147094652056694,0.060903940349817276,0.053432852029800415,0.05158334597945213,0.05058886855840683,0.050622474402189255,0.04954928159713745,0.048325590789318085,0.04615765064954758,0.04598361998796463,0.046114977449178696,0.04583349823951721,0.04466201737523079,0.04347331076860428,0.044448450207710266,0.04480944573879242,0.04396407678723335,0.04482906311750412,0.04388539120554924,0.041682302951812744,0.0423363596200943,0.041342638432979584,0.041753798723220825,0.041452400386333466,0.04166350141167641,0.04142513871192932,0.043485984206199646,0.040903154760599136,0.04034045338630676,0.04019703343510628,0.03941091522574425,0.039437100291252136,0.03960059955716133,0.040409646928310394,0.04057767242193222,0.0401642732322216,0.03979325667023659,0.03944820165634155,0.0390801876783371,0.03893796727061272,0.03915514424443245,0.039231088012456894,0.03929407149553299,0.03921065852046013,0.038990799337625504,0.03901193290948868],\"type\":\"scatter\"}],                        {\"template\":{\"data\":{\"histogram2dcontour\":[{\"type\":\"histogram2dcontour\",\"colorbar\":{\"outlinewidth\":0,\"ticks\":\"\"},\"colorscale\":[[0.0,\"#0d0887\"],[0.1111111111111111,\"#46039f\"],[0.2222222222222222,\"#7201a8\"],[0.3333333333333333,\"#9c179e\"],[0.4444444444444444,\"#bd3786\"],[0.5555555555555556,\"#d8576b\"],[0.6666666666666666,\"#ed7953\"],[0.7777777777777778,\"#fb9f3a\"],[0.8888888888888888,\"#fdca26\"],[1.0,\"#f0f921\"]]}],\"choropleth\":[{\"type\":\"choropleth\",\"colorbar\":{\"outlinewidth\":0,\"ticks\":\"\"}}],\"histogram2d\":[{\"type\":\"histogram2d\",\"colorbar\":{\"outlinewidth\":0,\"ticks\":\"\"},\"colorscale\":[[0.0,\"#0d0887\"],[0.1111111111111111,\"#46039f\"],[0.2222222222222222,\"#7201a8\"],[0.3333333333333333,\"#9c179e\"],[0.4444444444444444,\"#bd3786\"],[0.5555555555555556,\"#d8576b\"],[0.6666666666666666,\"#ed7953\"],[0.7777777777777778,\"#fb9f3a\"],[0.8888888888888888,\"#fdca26\"],[1.0,\"#f0f921\"]]}],\"heatmap\":[{\"type\":\"heatmap\",\"colorbar\":{\"outlinewidth\":0,\"ticks\":\"\"},\"colorscale\":[[0.0,\"#0d0887\"],[0.1111111111111111,\"#46039f\"],[0.2222222222222222,\"#7201a8\"],[0.3333333333333333,\"#9c179e\"],[0.4444444444444444,\"#bd3786\"],[0.5555555555555556,\"#d8576b\"],[0.6666666666666666,\"#ed7953\"],[0.7777777777777778,\"#fb9f3a\"],[0.8888888888888888,\"#fdca26\"],[1.0,\"#f0f921\"]]}],\"heatmapgl\":[{\"type\":\"heatmapgl\",\"colorbar\":{\"outlinewidth\":0,\"ticks\":\"\"},\"colorscale\":[[0.0,\"#0d0887\"],[0.1111111111111111,\"#46039f\"],[0.2222222222222222,\"#7201a8\"],[0.3333333333333333,\"#9c179e\"],[0.4444444444444444,\"#bd3786\"],[0.5555555555555556,\"#d8576b\"],[0.6666666666666666,\"#ed7953\"],[0.7777777777777778,\"#fb9f3a\"],[0.8888888888888888,\"#fdca26\"],[1.0,\"#f0f921\"]]}],\"contourcarpet\":[{\"type\":\"contourcarpet\",\"colorbar\":{\"outlinewidth\":0,\"ticks\":\"\"}}],\"contour\":[{\"type\":\"contour\",\"colorbar\":{\"outlinewidth\":0,\"ticks\":\"\"},\"colorscale\":[[0.0,\"#0d0887\"],[0.1111111111111111,\"#46039f\"],[0.2222222222222222,\"#7201a8\"],[0.3333333333333333,\"#9c179e\"],[0.4444444444444444,\"#bd3786\"],[0.5555555555555556,\"#d8576b\"],[0.6666666666666666,\"#ed7953\"],[0.7777777777777778,\"#fb9f3a\"],[0.8888888888888888,\"#fdca26\"],[1.0,\"#f0f921\"]]}],\"surface\":[{\"type\":\"surface\",\"colorbar\":{\"outlinewidth\":0,\"ticks\":\"\"},\"colorscale\":[[0.0,\"#0d0887\"],[0.1111111111111111,\"#46039f\"],[0.2222222222222222,\"#7201a8\"],[0.3333333333333333,\"#9c179e\"],[0.4444444444444444,\"#bd3786\"],[0.5555555555555556,\"#d8576b\"],[0.6666666666666666,\"#ed7953\"],[0.7777777777777778,\"#fb9f3a\"],[0.8888888888888888,\"#fdca26\"],[1.0,\"#f0f921\"]]}],\"mesh3d\":[{\"type\":\"mesh3d\",\"colorbar\":{\"outlinewidth\":0,\"ticks\":\"\"}}],\"scatter\":[{\"fillpattern\":{\"fillmode\":\"overlay\",\"size\":10,\"solidity\":0.2},\"type\":\"scatter\"}],\"parcoords\":[{\"type\":\"parcoords\",\"line\":{\"colorbar\":{\"outlinewidth\":0,\"ticks\":\"\"}}}],\"scatterpolargl\":[{\"type\":\"scatterpolargl\",\"marker\":{\"colorbar\":{\"outlinewidth\":0,\"ticks\":\"\"}}}],\"bar\":[{\"error_x\":{\"color\":\"#2a3f5f\"},\"error_y\":{\"color\":\"#2a3f5f\"},\"marker\":{\"line\":{\"color\":\"#E5ECF6\",\"width\":0.5},\"pattern\":{\"fillmode\":\"overlay\",\"size\":10,\"solidity\":0.2}},\"type\":\"bar\"}],\"scattergeo\":[{\"type\":\"scattergeo\",\"marker\":{\"colorbar\":{\"outlinewidth\":0,\"ticks\":\"\"}}}],\"scatterpolar\":[{\"type\":\"scatterpolar\",\"marker\":{\"colorbar\":{\"outlinewidth\":0,\"ticks\":\"\"}}}],\"histogram\":[{\"marker\":{\"pattern\":{\"fillmode\":\"overlay\",\"size\":10,\"solidity\":0.2}},\"type\":\"histogram\"}],\"scattergl\":[{\"type\":\"scattergl\",\"marker\":{\"colorbar\":{\"outlinewidth\":0,\"ticks\":\"\"}}}],\"scatter3d\":[{\"type\":\"scatter3d\",\"line\":{\"colorbar\":{\"outlinewidth\":0,\"ticks\":\"\"}},\"marker\":{\"colorbar\":{\"outlinewidth\":0,\"ticks\":\"\"}}}],\"scattermapbox\":[{\"type\":\"scattermapbox\",\"marker\":{\"colorbar\":{\"outlinewidth\":0,\"ticks\":\"\"}}}],\"scatterternary\":[{\"type\":\"scatterternary\",\"marker\":{\"colorbar\":{\"outlinewidth\":0,\"ticks\":\"\"}}}],\"scattercarpet\":[{\"type\":\"scattercarpet\",\"marker\":{\"colorbar\":{\"outlinewidth\":0,\"ticks\":\"\"}}}],\"carpet\":[{\"aaxis\":{\"endlinecolor\":\"#2a3f5f\",\"gridcolor\":\"white\",\"linecolor\":\"white\",\"minorgridcolor\":\"white\",\"startlinecolor\":\"#2a3f5f\"},\"baxis\":{\"endlinecolor\":\"#2a3f5f\",\"gridcolor\":\"white\",\"linecolor\":\"white\",\"minorgridcolor\":\"white\",\"startlinecolor\":\"#2a3f5f\"},\"type\":\"carpet\"}],\"table\":[{\"cells\":{\"fill\":{\"color\":\"#EBF0F8\"},\"line\":{\"color\":\"white\"}},\"header\":{\"fill\":{\"color\":\"#C8D4E3\"},\"line\":{\"color\":\"white\"}},\"type\":\"table\"}],\"barpolar\":[{\"marker\":{\"line\":{\"color\":\"#E5ECF6\",\"width\":0.5},\"pattern\":{\"fillmode\":\"overlay\",\"size\":10,\"solidity\":0.2}},\"type\":\"barpolar\"}],\"pie\":[{\"automargin\":true,\"type\":\"pie\"}]},\"layout\":{\"autotypenumbers\":\"strict\",\"colorway\":[\"#636efa\",\"#EF553B\",\"#00cc96\",\"#ab63fa\",\"#FFA15A\",\"#19d3f3\",\"#FF6692\",\"#B6E880\",\"#FF97FF\",\"#FECB52\"],\"font\":{\"color\":\"#2a3f5f\"},\"hovermode\":\"closest\",\"hoverlabel\":{\"align\":\"left\"},\"paper_bgcolor\":\"white\",\"plot_bgcolor\":\"#E5ECF6\",\"polar\":{\"bgcolor\":\"#E5ECF6\",\"angularaxis\":{\"gridcolor\":\"white\",\"linecolor\":\"white\",\"ticks\":\"\"},\"radialaxis\":{\"gridcolor\":\"white\",\"linecolor\":\"white\",\"ticks\":\"\"}},\"ternary\":{\"bgcolor\":\"#E5ECF6\",\"aaxis\":{\"gridcolor\":\"white\",\"linecolor\":\"white\",\"ticks\":\"\"},\"baxis\":{\"gridcolor\":\"white\",\"linecolor\":\"white\",\"ticks\":\"\"},\"caxis\":{\"gridcolor\":\"white\",\"linecolor\":\"white\",\"ticks\":\"\"}},\"coloraxis\":{\"colorbar\":{\"outlinewidth\":0,\"ticks\":\"\"}},\"colorscale\":{\"sequential\":[[0.0,\"#0d0887\"],[0.1111111111111111,\"#46039f\"],[0.2222222222222222,\"#7201a8\"],[0.3333333333333333,\"#9c179e\"],[0.4444444444444444,\"#bd3786\"],[0.5555555555555556,\"#d8576b\"],[0.6666666666666666,\"#ed7953\"],[0.7777777777777778,\"#fb9f3a\"],[0.8888888888888888,\"#fdca26\"],[1.0,\"#f0f921\"]],\"sequentialminus\":[[0.0,\"#0d0887\"],[0.1111111111111111,\"#46039f\"],[0.2222222222222222,\"#7201a8\"],[0.3333333333333333,\"#9c179e\"],[0.4444444444444444,\"#bd3786\"],[0.5555555555555556,\"#d8576b\"],[0.6666666666666666,\"#ed7953\"],[0.7777777777777778,\"#fb9f3a\"],[0.8888888888888888,\"#fdca26\"],[1.0,\"#f0f921\"]],\"diverging\":[[0,\"#8e0152\"],[0.1,\"#c51b7d\"],[0.2,\"#de77ae\"],[0.3,\"#f1b6da\"],[0.4,\"#fde0ef\"],[0.5,\"#f7f7f7\"],[0.6,\"#e6f5d0\"],[0.7,\"#b8e186\"],[0.8,\"#7fbc41\"],[0.9,\"#4d9221\"],[1,\"#276419\"]]},\"xaxis\":{\"gridcolor\":\"white\",\"linecolor\":\"white\",\"ticks\":\"\",\"title\":{\"standoff\":15},\"zerolinecolor\":\"white\",\"automargin\":true,\"zerolinewidth\":2},\"yaxis\":{\"gridcolor\":\"white\",\"linecolor\":\"white\",\"ticks\":\"\",\"title\":{\"standoff\":15},\"zerolinecolor\":\"white\",\"automargin\":true,\"zerolinewidth\":2},\"scene\":{\"xaxis\":{\"backgroundcolor\":\"#E5ECF6\",\"gridcolor\":\"white\",\"linecolor\":\"white\",\"showbackground\":true,\"ticks\":\"\",\"zerolinecolor\":\"white\",\"gridwidth\":2},\"yaxis\":{\"backgroundcolor\":\"#E5ECF6\",\"gridcolor\":\"white\",\"linecolor\":\"white\",\"showbackground\":true,\"ticks\":\"\",\"zerolinecolor\":\"white\",\"gridwidth\":2},\"zaxis\":{\"backgroundcolor\":\"#E5ECF6\",\"gridcolor\":\"white\",\"linecolor\":\"white\",\"showbackground\":true,\"ticks\":\"\",\"zerolinecolor\":\"white\",\"gridwidth\":2}},\"shapedefaults\":{\"line\":{\"color\":\"#2a3f5f\"}},\"annotationdefaults\":{\"arrowcolor\":\"#2a3f5f\",\"arrowhead\":0,\"arrowwidth\":1},\"geo\":{\"bgcolor\":\"white\",\"landcolor\":\"#E5ECF6\",\"subunitcolor\":\"white\",\"showland\":true,\"showlakes\":true,\"lakecolor\":\"white\"},\"title\":{\"x\":0.05},\"mapbox\":{\"style\":\"light\"}}},\"title\":{\"text\":\"Training vs Validation Loss\"},\"xaxis\":{\"title\":{\"text\":\"Epoch\"}},\"yaxis\":{\"title\":{\"text\":\"Loss\"}}},                        {\"responsive\": true}                    ).then(function(){\n",
              "                            \n",
              "var gd = document.getElementById('cdf0de89-1c30-4dd1-b00b-0e769b0152a4');\n",
              "var x = new MutationObserver(function (mutations, observer) {{\n",
              "        var display = window.getComputedStyle(gd).display;\n",
              "        if (!display || display === 'none') {{\n",
              "            console.log([gd, 'removed!']);\n",
              "            Plotly.purge(gd);\n",
              "            observer.disconnect();\n",
              "        }}\n",
              "}});\n",
              "\n",
              "// Listen for the removal of the full notebook cells\n",
              "var notebookContainer = gd.closest('#notebook-container');\n",
              "if (notebookContainer) {{\n",
              "    x.observe(notebookContainer, {childList: true});\n",
              "}}\n",
              "\n",
              "// Listen for the clearing of the current output cell\n",
              "var outputEl = gd.closest('.output');\n",
              "if (outputEl) {{\n",
              "    x.observe(outputEl, {childList: true});\n",
              "}}\n",
              "\n",
              "                        })                };                            </script>        </div>\n",
              "</body>\n",
              "</html>"
            ]
          },
          "metadata": {}
        }
      ]
    },
    {
      "cell_type": "code",
      "source": [
        "y_pred = model.predict(X_test)\n",
        "y_pred_rescaled = scaler.inverse_transform(\n",
        "    np.concatenate([np.zeros((len(y_pred), len(feature_cols)-1)), y_pred], axis=1)\n",
        ")[:, -1]\n",
        "y_test_rescaled = scaler.inverse_transform(\n",
        "    np.concatenate([np.zeros((len(y_test), len(feature_cols)-1)), y_test.reshape(-1,1)], axis=1)\n",
        ")[:, -1]\n",
        "\n",
        "mae = mean_absolute_error(y_test_rescaled, y_pred_rescaled)\n",
        "rmse = np.sqrt(mean_squared_error(y_test_rescaled, y_pred_rescaled))\n",
        "r2 = r2_score(y_test_rescaled, y_pred_rescaled)\n",
        "print(f\"MAE: {mae:.2f}, RMSE: {rmse:.2f}, R²: {r2:.2f}\")\n"
      ],
      "metadata": {
        "id": "QNJxH2W32lHs",
        "colab": {
          "base_uri": "https://localhost:8080/"
        },
        "outputId": "d2cbace2-b702-4e46-f0b2-adc2f17a6f2b"
      },
      "execution_count": 54,
      "outputs": [
        {
          "output_type": "stream",
          "name": "stdout",
          "text": [
            "\u001b[1m213/213\u001b[0m \u001b[32m━━━━━━━━━━━━━━━━━━━━\u001b[0m\u001b[37m\u001b[0m \u001b[1m1s\u001b[0m 4ms/step\n",
            "MAE: 17.92, RMSE: 24.58, R²: 0.55\n"
          ]
        }
      ]
    },
    {
      "cell_type": "code",
      "source": [
        "# גרף השוואה\n",
        "\n",
        "fig = go.Figure()\n",
        "fig.add_trace(go.Scatter(y=y_test_rescaled[:200], mode='lines', name='Actual'))\n",
        "fig.add_trace(go.Scatter(y=y_pred_rescaled[:200], mode='lines', name='Predicted'))\n",
        "fig.update_layout(title=\"Actual vs Predicted\", xaxis_title=\"Time\", yaxis_title=\"TotalAgents\")\n",
        "fig.show()"
      ],
      "metadata": {
        "id": "SYg3rb-p3wLL",
        "colab": {
          "base_uri": "https://localhost:8080/",
          "height": 542
        },
        "outputId": "b91e7f53-3701-4399-fd72-12d8dd92849b"
      },
      "execution_count": 55,
      "outputs": [
        {
          "output_type": "display_data",
          "data": {
            "text/html": [
              "<html>\n",
              "<head><meta charset=\"utf-8\" /></head>\n",
              "<body>\n",
              "    <div>            <script src=\"https://cdnjs.cloudflare.com/ajax/libs/mathjax/2.7.5/MathJax.js?config=TeX-AMS-MML_SVG\"></script><script type=\"text/javascript\">if (window.MathJax && window.MathJax.Hub && window.MathJax.Hub.Config) {window.MathJax.Hub.Config({SVG: {font: \"STIX-Web\"}});}</script>                <script type=\"text/javascript\">window.PlotlyConfig = {MathJaxConfig: 'local'};</script>\n",
              "        <script charset=\"utf-8\" src=\"https://cdn.plot.ly/plotly-2.35.2.min.js\"></script>                <div id=\"1f3bf571-d19d-4286-b27a-dce213d9c222\" class=\"plotly-graph-div\" style=\"height:525px; width:100%;\"></div>            <script type=\"text/javascript\">                                    window.PLOTLYENV=window.PLOTLYENV || {};                                    if (document.getElementById(\"1f3bf571-d19d-4286-b27a-dce213d9c222\")) {                    Plotly.newPlot(                        \"1f3bf571-d19d-4286-b27a-dce213d9c222\",                        [{\"mode\":\"lines\",\"name\":\"Actual\",\"y\":[106.0,107.0,108.0,112.0,111.0,101.0,86.0,4.0,97.0,80.0,73.0,55.0,42.0,93.0,9.0,9.0,2.0,2.0,35.0,94.0,88.0,104.0,10.0,89.0,101.0,106.0,103.0,1.0,99.0,98.0,94.0,104.0,104.0,81.0,72.0,54.0,39.0,35.0,7.0,4.0,1.0,1.0,84.0,9.0,90.0,1.0,98.0,97.0,6.0,77.0,93.0,93.0,2.0,101.0,95.0,99.0,93.0,99.0,100.0,92.0,84.0,83.0,78.0,56.0,9.0,37.0,8.0,3.0,1.0,43.0,98.0,96.0,89.0,93.0,100.0,101.0,108.0,107.0,101.0,95.0,7.0,2.0,96.0,85.0,79.0,68.0,4.0,90.0,38.0,31.0,8.0,7.0,48.0,95.0,97.0,95.0,92.0,93.0,98.0,96.0,93.0,85.0,78.0,4.0,1.0,93.0,0.0,3.0,5.0,35.0,37.0,38.0,41.0,40.0,40.0,41.0,2.0,40.0,95.0,91.0,82.0,58.0,1.0,47.0,13.0,14.0,6.0,1.0,1.0,39.0,96.0,97.0,101.0,98.0,2.0,7.0,102.0,106.0,91.0,101.0,99.0,104.0,101.0,107.0,54.0,89.0,85.0,80.0,40.0,91.0,35.0,11.0,12.0,4.0,1.0,96.0,102.0,95.0,98.0,4.0,80.0,95.0,2.0,102.0,103.0,105.0,100.0,103.0,0.0,0.0,0.0,0.0,0.0,0.0,0.0,6.0,8.0,7.0,8.0,8.0,10.0,9.0,10.0,3.0,7.0,0.0,0.0,0.0,0.0,1.0,3.0,6.0,6.0,33.0,41.0,58.0,69.0,79.0,89.0,87.0],\"type\":\"scatter\"},{\"mode\":\"lines\",\"name\":\"Predicted\",\"y\":[85.65417551994324,97.4798035621643,76.08187866210938,92.48073959350586,73.10799384117126,63.843427658081055,61.64013707637787,22.645390450954437,64.96141624450684,86.05364298820496,49.59322690963745,48.889243841171265,39.385823488235474,27.36281019449234,43.79926347732544,2.573882892727852,9.651980817317963,18.11132973432541,25.803532302379608,69.02129411697388,38.81566882133484,89.42100858688354,48.366790533065796,87.3966794013977,90.8003420829773,89.97825121879578,64.9208915233612,81.78874683380127,99.99509310722351,75.25128078460693,113.10478496551514,94.47325801849365,68.56520438194275,54.07413911819458,18.740730464458466,17.352235853672028,22.69125145673752,21.9456627368927,32.02248978614807,13.653011739253998,8.437654554843903,20.938596069812775,52.66515302658081,20.46370553970337,85.0501480102539,67.83216738700867,92.40615725517273,100.21844840049744,91.90620946884155,73.61729121208191,104.05191850662231,80.66741752624512,73.46004819869995,99.90756177902222,107.83538126945496,101.39657735824585,101.04325914382935,92.3085298538208,73.84019565582275,76.77385878562927,14.863895654678345,29.6206277012825,21.844005405902863,45.78688907623291,31.522139191627502,15.539251625537872,6.664850905537605,9.954168260097504,51.499470472335815,33.91986787319183,18.624926805496216,63.49007987976074,83.07782173156738,69.17876625061035,67.82997965812683,94.9230728149414,97.78586387634277,92.84187746047974,90.97417783737183,88.0530276298523,44.17738580703735,22.94119393825531,52.87696361541748,60.11512744426727,40.16804373264313,48.315460205078125,30.026549339294434,28.291800439357758,24.46665072441101,33.43186020851135,22.32536119222641,7.753519952297211,38.714855909347534,101.88297748565674,87.9901008605957,87.64420318603516,70.93946671485901,91.6612799167633,87.72733688354492,94.44434452056885,88.96361064910889,87.32227444648743,86.41830635070801,55.5873749256134,40.76092195510864,79.8313946723938,16.669137835502625,28.835159122943878,35.82897174358368,34.792298674583435,24.571340203285217,28.976616859436035,27.566076815128326,21.018551647663116,18.475224435329437,6.616619244217873,20.46497678756714,21.181977212429047,31.830498099327087,34.63708817958832,30.742738604545593,32.91167223453522,39.97257089614868,33.04579997062683,13.821806848049164,17.699288368225098,21.437974750995636,44.4632613658905,48.738131642341614,80.76739525794983,88.34307909011841,98.93772530555725,81.48562812805176,88.88718056678772,76.080237865448,78.4035542011261,82.90815448760986,66.30766034126282,49.07797980308533,85.04790115356445,95.80007123947144,96.82041764259338,104.69025492668152,94.15149927139282,69.19374775886536,2.0229706317186356,13.449597299098969,33.864816188812256,18.700968861579895,16.304860651493073,57.08046293258667,42.902021169662476,9.447856843471527,33.72717773914337,32.48145091533661,44.221957087516785,47.95894908905029,86.27616310119629,81.28278279304504,80.20515632629395,68.94071769714355,89.95172500610352,51.776535987854004,78.01676964759827,103.34959840774536,66.00565028190613,94.15447044372559,71.10621452331543,82.06649231910706,56.80321264266968,17.090301513671875,53.407018542289734,34.84529197216034,58.430232524871826,39.93989908695221,67.79972839355469,44.882248401641846,32.51723802089691,71.28848338127136,88.41202211380005,77.36419820785522,90.27830266952515,78.40539455413818,42.798654675483704,56.966368436813354,74.82808828353882,32.098121643066406,55.92256677150726,29.967715322971344,31.87003242969513,13.619013249874115,5.283750966191292,19.400325179100037,39.45301854610443,34.28570640087128,42.78450834751129,63.70543813705444,68.01969861984253,79.87125420570374,92.33357048034668],\"type\":\"scatter\"}],                        {\"template\":{\"data\":{\"histogram2dcontour\":[{\"type\":\"histogram2dcontour\",\"colorbar\":{\"outlinewidth\":0,\"ticks\":\"\"},\"colorscale\":[[0.0,\"#0d0887\"],[0.1111111111111111,\"#46039f\"],[0.2222222222222222,\"#7201a8\"],[0.3333333333333333,\"#9c179e\"],[0.4444444444444444,\"#bd3786\"],[0.5555555555555556,\"#d8576b\"],[0.6666666666666666,\"#ed7953\"],[0.7777777777777778,\"#fb9f3a\"],[0.8888888888888888,\"#fdca26\"],[1.0,\"#f0f921\"]]}],\"choropleth\":[{\"type\":\"choropleth\",\"colorbar\":{\"outlinewidth\":0,\"ticks\":\"\"}}],\"histogram2d\":[{\"type\":\"histogram2d\",\"colorbar\":{\"outlinewidth\":0,\"ticks\":\"\"},\"colorscale\":[[0.0,\"#0d0887\"],[0.1111111111111111,\"#46039f\"],[0.2222222222222222,\"#7201a8\"],[0.3333333333333333,\"#9c179e\"],[0.4444444444444444,\"#bd3786\"],[0.5555555555555556,\"#d8576b\"],[0.6666666666666666,\"#ed7953\"],[0.7777777777777778,\"#fb9f3a\"],[0.8888888888888888,\"#fdca26\"],[1.0,\"#f0f921\"]]}],\"heatmap\":[{\"type\":\"heatmap\",\"colorbar\":{\"outlinewidth\":0,\"ticks\":\"\"},\"colorscale\":[[0.0,\"#0d0887\"],[0.1111111111111111,\"#46039f\"],[0.2222222222222222,\"#7201a8\"],[0.3333333333333333,\"#9c179e\"],[0.4444444444444444,\"#bd3786\"],[0.5555555555555556,\"#d8576b\"],[0.6666666666666666,\"#ed7953\"],[0.7777777777777778,\"#fb9f3a\"],[0.8888888888888888,\"#fdca26\"],[1.0,\"#f0f921\"]]}],\"heatmapgl\":[{\"type\":\"heatmapgl\",\"colorbar\":{\"outlinewidth\":0,\"ticks\":\"\"},\"colorscale\":[[0.0,\"#0d0887\"],[0.1111111111111111,\"#46039f\"],[0.2222222222222222,\"#7201a8\"],[0.3333333333333333,\"#9c179e\"],[0.4444444444444444,\"#bd3786\"],[0.5555555555555556,\"#d8576b\"],[0.6666666666666666,\"#ed7953\"],[0.7777777777777778,\"#fb9f3a\"],[0.8888888888888888,\"#fdca26\"],[1.0,\"#f0f921\"]]}],\"contourcarpet\":[{\"type\":\"contourcarpet\",\"colorbar\":{\"outlinewidth\":0,\"ticks\":\"\"}}],\"contour\":[{\"type\":\"contour\",\"colorbar\":{\"outlinewidth\":0,\"ticks\":\"\"},\"colorscale\":[[0.0,\"#0d0887\"],[0.1111111111111111,\"#46039f\"],[0.2222222222222222,\"#7201a8\"],[0.3333333333333333,\"#9c179e\"],[0.4444444444444444,\"#bd3786\"],[0.5555555555555556,\"#d8576b\"],[0.6666666666666666,\"#ed7953\"],[0.7777777777777778,\"#fb9f3a\"],[0.8888888888888888,\"#fdca26\"],[1.0,\"#f0f921\"]]}],\"surface\":[{\"type\":\"surface\",\"colorbar\":{\"outlinewidth\":0,\"ticks\":\"\"},\"colorscale\":[[0.0,\"#0d0887\"],[0.1111111111111111,\"#46039f\"],[0.2222222222222222,\"#7201a8\"],[0.3333333333333333,\"#9c179e\"],[0.4444444444444444,\"#bd3786\"],[0.5555555555555556,\"#d8576b\"],[0.6666666666666666,\"#ed7953\"],[0.7777777777777778,\"#fb9f3a\"],[0.8888888888888888,\"#fdca26\"],[1.0,\"#f0f921\"]]}],\"mesh3d\":[{\"type\":\"mesh3d\",\"colorbar\":{\"outlinewidth\":0,\"ticks\":\"\"}}],\"scatter\":[{\"fillpattern\":{\"fillmode\":\"overlay\",\"size\":10,\"solidity\":0.2},\"type\":\"scatter\"}],\"parcoords\":[{\"type\":\"parcoords\",\"line\":{\"colorbar\":{\"outlinewidth\":0,\"ticks\":\"\"}}}],\"scatterpolargl\":[{\"type\":\"scatterpolargl\",\"marker\":{\"colorbar\":{\"outlinewidth\":0,\"ticks\":\"\"}}}],\"bar\":[{\"error_x\":{\"color\":\"#2a3f5f\"},\"error_y\":{\"color\":\"#2a3f5f\"},\"marker\":{\"line\":{\"color\":\"#E5ECF6\",\"width\":0.5},\"pattern\":{\"fillmode\":\"overlay\",\"size\":10,\"solidity\":0.2}},\"type\":\"bar\"}],\"scattergeo\":[{\"type\":\"scattergeo\",\"marker\":{\"colorbar\":{\"outlinewidth\":0,\"ticks\":\"\"}}}],\"scatterpolar\":[{\"type\":\"scatterpolar\",\"marker\":{\"colorbar\":{\"outlinewidth\":0,\"ticks\":\"\"}}}],\"histogram\":[{\"marker\":{\"pattern\":{\"fillmode\":\"overlay\",\"size\":10,\"solidity\":0.2}},\"type\":\"histogram\"}],\"scattergl\":[{\"type\":\"scattergl\",\"marker\":{\"colorbar\":{\"outlinewidth\":0,\"ticks\":\"\"}}}],\"scatter3d\":[{\"type\":\"scatter3d\",\"line\":{\"colorbar\":{\"outlinewidth\":0,\"ticks\":\"\"}},\"marker\":{\"colorbar\":{\"outlinewidth\":0,\"ticks\":\"\"}}}],\"scattermapbox\":[{\"type\":\"scattermapbox\",\"marker\":{\"colorbar\":{\"outlinewidth\":0,\"ticks\":\"\"}}}],\"scatterternary\":[{\"type\":\"scatterternary\",\"marker\":{\"colorbar\":{\"outlinewidth\":0,\"ticks\":\"\"}}}],\"scattercarpet\":[{\"type\":\"scattercarpet\",\"marker\":{\"colorbar\":{\"outlinewidth\":0,\"ticks\":\"\"}}}],\"carpet\":[{\"aaxis\":{\"endlinecolor\":\"#2a3f5f\",\"gridcolor\":\"white\",\"linecolor\":\"white\",\"minorgridcolor\":\"white\",\"startlinecolor\":\"#2a3f5f\"},\"baxis\":{\"endlinecolor\":\"#2a3f5f\",\"gridcolor\":\"white\",\"linecolor\":\"white\",\"minorgridcolor\":\"white\",\"startlinecolor\":\"#2a3f5f\"},\"type\":\"carpet\"}],\"table\":[{\"cells\":{\"fill\":{\"color\":\"#EBF0F8\"},\"line\":{\"color\":\"white\"}},\"header\":{\"fill\":{\"color\":\"#C8D4E3\"},\"line\":{\"color\":\"white\"}},\"type\":\"table\"}],\"barpolar\":[{\"marker\":{\"line\":{\"color\":\"#E5ECF6\",\"width\":0.5},\"pattern\":{\"fillmode\":\"overlay\",\"size\":10,\"solidity\":0.2}},\"type\":\"barpolar\"}],\"pie\":[{\"automargin\":true,\"type\":\"pie\"}]},\"layout\":{\"autotypenumbers\":\"strict\",\"colorway\":[\"#636efa\",\"#EF553B\",\"#00cc96\",\"#ab63fa\",\"#FFA15A\",\"#19d3f3\",\"#FF6692\",\"#B6E880\",\"#FF97FF\",\"#FECB52\"],\"font\":{\"color\":\"#2a3f5f\"},\"hovermode\":\"closest\",\"hoverlabel\":{\"align\":\"left\"},\"paper_bgcolor\":\"white\",\"plot_bgcolor\":\"#E5ECF6\",\"polar\":{\"bgcolor\":\"#E5ECF6\",\"angularaxis\":{\"gridcolor\":\"white\",\"linecolor\":\"white\",\"ticks\":\"\"},\"radialaxis\":{\"gridcolor\":\"white\",\"linecolor\":\"white\",\"ticks\":\"\"}},\"ternary\":{\"bgcolor\":\"#E5ECF6\",\"aaxis\":{\"gridcolor\":\"white\",\"linecolor\":\"white\",\"ticks\":\"\"},\"baxis\":{\"gridcolor\":\"white\",\"linecolor\":\"white\",\"ticks\":\"\"},\"caxis\":{\"gridcolor\":\"white\",\"linecolor\":\"white\",\"ticks\":\"\"}},\"coloraxis\":{\"colorbar\":{\"outlinewidth\":0,\"ticks\":\"\"}},\"colorscale\":{\"sequential\":[[0.0,\"#0d0887\"],[0.1111111111111111,\"#46039f\"],[0.2222222222222222,\"#7201a8\"],[0.3333333333333333,\"#9c179e\"],[0.4444444444444444,\"#bd3786\"],[0.5555555555555556,\"#d8576b\"],[0.6666666666666666,\"#ed7953\"],[0.7777777777777778,\"#fb9f3a\"],[0.8888888888888888,\"#fdca26\"],[1.0,\"#f0f921\"]],\"sequentialminus\":[[0.0,\"#0d0887\"],[0.1111111111111111,\"#46039f\"],[0.2222222222222222,\"#7201a8\"],[0.3333333333333333,\"#9c179e\"],[0.4444444444444444,\"#bd3786\"],[0.5555555555555556,\"#d8576b\"],[0.6666666666666666,\"#ed7953\"],[0.7777777777777778,\"#fb9f3a\"],[0.8888888888888888,\"#fdca26\"],[1.0,\"#f0f921\"]],\"diverging\":[[0,\"#8e0152\"],[0.1,\"#c51b7d\"],[0.2,\"#de77ae\"],[0.3,\"#f1b6da\"],[0.4,\"#fde0ef\"],[0.5,\"#f7f7f7\"],[0.6,\"#e6f5d0\"],[0.7,\"#b8e186\"],[0.8,\"#7fbc41\"],[0.9,\"#4d9221\"],[1,\"#276419\"]]},\"xaxis\":{\"gridcolor\":\"white\",\"linecolor\":\"white\",\"ticks\":\"\",\"title\":{\"standoff\":15},\"zerolinecolor\":\"white\",\"automargin\":true,\"zerolinewidth\":2},\"yaxis\":{\"gridcolor\":\"white\",\"linecolor\":\"white\",\"ticks\":\"\",\"title\":{\"standoff\":15},\"zerolinecolor\":\"white\",\"automargin\":true,\"zerolinewidth\":2},\"scene\":{\"xaxis\":{\"backgroundcolor\":\"#E5ECF6\",\"gridcolor\":\"white\",\"linecolor\":\"white\",\"showbackground\":true,\"ticks\":\"\",\"zerolinecolor\":\"white\",\"gridwidth\":2},\"yaxis\":{\"backgroundcolor\":\"#E5ECF6\",\"gridcolor\":\"white\",\"linecolor\":\"white\",\"showbackground\":true,\"ticks\":\"\",\"zerolinecolor\":\"white\",\"gridwidth\":2},\"zaxis\":{\"backgroundcolor\":\"#E5ECF6\",\"gridcolor\":\"white\",\"linecolor\":\"white\",\"showbackground\":true,\"ticks\":\"\",\"zerolinecolor\":\"white\",\"gridwidth\":2}},\"shapedefaults\":{\"line\":{\"color\":\"#2a3f5f\"}},\"annotationdefaults\":{\"arrowcolor\":\"#2a3f5f\",\"arrowhead\":0,\"arrowwidth\":1},\"geo\":{\"bgcolor\":\"white\",\"landcolor\":\"#E5ECF6\",\"subunitcolor\":\"white\",\"showland\":true,\"showlakes\":true,\"lakecolor\":\"white\"},\"title\":{\"x\":0.05},\"mapbox\":{\"style\":\"light\"}}},\"title\":{\"text\":\"Actual vs Predicted\"},\"xaxis\":{\"title\":{\"text\":\"Time\"}},\"yaxis\":{\"title\":{\"text\":\"TotalAgents\"}}},                        {\"responsive\": true}                    ).then(function(){\n",
              "                            \n",
              "var gd = document.getElementById('1f3bf571-d19d-4286-b27a-dce213d9c222');\n",
              "var x = new MutationObserver(function (mutations, observer) {{\n",
              "        var display = window.getComputedStyle(gd).display;\n",
              "        if (!display || display === 'none') {{\n",
              "            console.log([gd, 'removed!']);\n",
              "            Plotly.purge(gd);\n",
              "            observer.disconnect();\n",
              "        }}\n",
              "}});\n",
              "\n",
              "// Listen for the removal of the full notebook cells\n",
              "var notebookContainer = gd.closest('#notebook-container');\n",
              "if (notebookContainer) {{\n",
              "    x.observe(notebookContainer, {childList: true});\n",
              "}}\n",
              "\n",
              "// Listen for the clearing of the current output cell\n",
              "var outputEl = gd.closest('.output');\n",
              "if (outputEl) {{\n",
              "    x.observe(outputEl, {childList: true});\n",
              "}}\n",
              "\n",
              "                        })                };                            </script>        </div>\n",
              "</body>\n",
              "</html>"
            ]
          },
          "metadata": {}
        }
      ]
    },
    {
      "cell_type": "markdown",
      "source": [
        "## שמירת המודל"
      ],
      "metadata": {
        "id": "y6t-gnh94J-I"
      }
    },
    {
      "cell_type": "code",
      "source": [
        "model.save(\"lstm_model.keras\", include_optimizer=False)\n",
        "print(\"✅ Model saved as lstm_model.keras\")"
      ],
      "metadata": {
        "id": "hh1lUk2x4Nh8",
        "colab": {
          "base_uri": "https://localhost:8080/"
        },
        "outputId": "abf9b370-0605-4c43-b1b7-cf9cd7380f5a"
      },
      "execution_count": 60,
      "outputs": [
        {
          "output_type": "stream",
          "name": "stdout",
          "text": [
            "✅ Model saved as lstm_model.keras\n"
          ]
        }
      ]
    },
    {
      "cell_type": "markdown",
      "source": [
        "# פונקציה לחיזוי יומי"
      ],
      "metadata": {
        "id": "XiwE-31D3HTk"
      }
    },
    {
      "cell_type": "code",
      "source": [
        "def predict_future(date_str):\n",
        "    model_loaded = load_model(\"lstm_model.keras\", compile=False)\n",
        "    holidays_new_df = pd.read_csv(\"Holidays_New.csv\")\n",
        "    holidays_new_df['Date'] = pd.to_datetime(holidays_new_df['Date'])\n",
        "\n",
        "    date_obj = pd.to_datetime(date_str, format=\"%d/%m/%Y\")\n",
        "    preds = []\n",
        "\n",
        "    for hour in range(24):\n",
        "        weekday = date_obj.dayofweek\n",
        "        is_holiday = 1 if date_obj in holidays_new_df['Date'].values else 0\n",
        "        is_holiday_eve = 1 if date_obj - pd.Timedelta(days=1) in holidays_new_df['Date'].values else 0\n",
        "\n",
        "        hour_sin = np.sin(2 * np.pi * hour/24)\n",
        "        hour_cos = np.cos(2 * np.pi * hour/24)\n",
        "        weekday_sin = np.sin(2 * np.pi * weekday/7)\n",
        "        weekday_cos = np.cos(2 * np.pi * weekday/7)\n",
        "\n",
        "        df_row = pd.DataFrame([[hour, weekday, is_holiday, is_holiday_eve,\n",
        "                                hour_sin, hour_cos, weekday_sin, weekday_cos,\n",
        "                                0,0]],\n",
        "                              columns=feature_cols)\n",
        "\n",
        "        scaled_row = scaler.transform(df_row)[0]\n",
        "        row_9_features = scaled_row[:-1]\n",
        "        row_reshaped = np.array(row_9_features).reshape((1,1,len(feature_cols)-1))\n",
        "        pred = model_loaded.predict(row_reshaped, verbose=0)[0][0]\n",
        "        preds.append(pred)\n",
        "\n",
        "    preds = np.array(preds).reshape(-1,1)\n",
        "    preds_rescaled = scaler.inverse_transform(\n",
        "        np.concatenate([np.zeros((24, len(feature_cols)-1)), preds], axis=1)\n",
        "    )[:, -1]\n",
        "\n",
        "    predictions = pd.DataFrame({\n",
        "        'Date':[date_obj.strftime(\"%d/%m/%Y\")]*24,\n",
        "        'HourInterval':[f\"{h:02d}:00 - {h+1:02d}:00\" for h in range(24)],\n",
        "        'PredictedAgents':preds_rescaled.astype(int)\n",
        "    })\n",
        "    print(f\"✅ תחזית ליום {date_obj.strftime('%d/%m/%Y')}\")\n",
        "    return predictions\n"
      ],
      "metadata": {
        "id": "pYvms5p23L0J"
      },
      "execution_count": 61,
      "outputs": []
    },
    {
      "cell_type": "code",
      "source": [
        "predictions =predict_future(\"20/07/2025\")\n",
        "print(predictions)"
      ],
      "metadata": {
        "id": "YUK6SZSY4pCh",
        "colab": {
          "base_uri": "https://localhost:8080/"
        },
        "outputId": "995c407f-9c10-4ca3-eb0e-c4f72fd14129"
      },
      "execution_count": 62,
      "outputs": [
        {
          "output_type": "stream",
          "name": "stdout",
          "text": [
            "✅ תחזית ליום 20/07/2025\n",
            "          Date   HourInterval  PredictedAgents\n",
            "0   20/07/2025  00:00 - 01:00               10\n",
            "1   20/07/2025  01:00 - 02:00               31\n",
            "2   20/07/2025  02:00 - 03:00               24\n",
            "3   20/07/2025  03:00 - 04:00               24\n",
            "4   20/07/2025  04:00 - 05:00               24\n",
            "5   20/07/2025  05:00 - 06:00                7\n",
            "6   20/07/2025  06:00 - 07:00               28\n",
            "7   20/07/2025  07:00 - 08:00               19\n",
            "8   20/07/2025  08:00 - 09:00               31\n",
            "9   20/07/2025  09:00 - 10:00               18\n",
            "10  20/07/2025  10:00 - 11:00               39\n",
            "11  20/07/2025  11:00 - 12:00               36\n",
            "12  20/07/2025  12:00 - 13:00               38\n",
            "13  20/07/2025  13:00 - 14:00               33\n",
            "14  20/07/2025  14:00 - 15:00               15\n",
            "15  20/07/2025  15:00 - 16:00               13\n",
            "16  20/07/2025  16:00 - 17:00               23\n",
            "17  20/07/2025  17:00 - 18:00               21\n",
            "18  20/07/2025  18:00 - 19:00               10\n",
            "19  20/07/2025  19:00 - 20:00               12\n",
            "20  20/07/2025  20:00 - 21:00                9\n",
            "21  20/07/2025  21:00 - 22:00               11\n",
            "22  20/07/2025  22:00 - 23:00               12\n",
            "23  20/07/2025  23:00 - 24:00               15\n"
          ]
        }
      ]
    }
  ]
}